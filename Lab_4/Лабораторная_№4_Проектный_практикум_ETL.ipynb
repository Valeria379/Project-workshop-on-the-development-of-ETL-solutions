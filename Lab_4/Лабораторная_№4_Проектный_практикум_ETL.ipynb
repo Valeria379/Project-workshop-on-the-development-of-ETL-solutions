{
  "cells": [
    {
      "cell_type": "markdown",
      "metadata": {
        "id": "bEx0EgnxPzf-"
      },
      "source": [
        "# Практическая работа 2.1. Анализ данных с помощью DASK\n",
        "\n",
        "\n",
        "**Задание.**\n",
        "\n",
        "`2.1.1.` Настроить среду и рабочий каталог.\n",
        "\n",
        "`2.1.2.` Загрузить данные.\n",
        "\n",
        "`2.1.3.` Проверить качество данных (например, отсутствующие значения и выбросы).\n",
        "\n",
        "`2.1.4.` Удалить столбцы (множество пропусков в значениях, бесполезные столбцы для анализа)."
      ]
    },
    {
      "cell_type": "markdown",
      "metadata": {
        "id": "MmgSJ5WcSh3h"
      },
      "source": [
        "`2.1.1.` **Настроить среду и рабочий каталог.**"
      ]
    },
    {
      "cell_type": "code",
      "execution_count": 1,
      "metadata": {
        "colab": {
          "base_uri": "https://localhost:8080/"
        },
        "id": "IngQXQWPQckS",
        "outputId": "cef614ee-cbf4-4a19-d656-0613fb9ceb53"
      },
      "outputs": [
        {
          "output_type": "stream",
          "name": "stdout",
          "text": [
            "Mounted at /content/drive/\n"
          ]
        }
      ],
      "source": [
        "from google.colab import drive\n",
        "drive.mount('/content/drive/')"
      ]
    },
    {
      "cell_type": "code",
      "execution_count": 2,
      "metadata": {
        "colab": {
          "base_uri": "https://localhost:8080/"
        },
        "id": "sw6VBZqAQ4U0",
        "outputId": "5c6ee6e1-964a-496d-874f-042b6f044eeb"
      },
      "outputs": [
        {
          "output_type": "stream",
          "name": "stdout",
          "text": [
            "\u001b[0m\u001b[01;34mdrive\u001b[0m/  \u001b[01;34msample_data\u001b[0m/\n"
          ]
        }
      ],
      "source": [
        "ls"
      ]
    },
    {
      "cell_type": "code",
      "execution_count": 8,
      "metadata": {
        "colab": {
          "base_uri": "https://localhost:8080/"
        },
        "id": "RWdPM06UI208",
        "outputId": "2fdd48df-59d1-4d03-f12c-3c4ed27aef03"
      },
      "outputs": [
        {
          "output_type": "stream",
          "name": "stdout",
          "text": [
            "Requirement already satisfied: dask[complete] in /usr/local/lib/python3.11/dist-packages (2024.12.1)\n",
            "Requirement already satisfied: click>=8.1 in /usr/local/lib/python3.11/dist-packages (from dask[complete]) (8.1.8)\n",
            "Requirement already satisfied: cloudpickle>=3.0.0 in /usr/local/lib/python3.11/dist-packages (from dask[complete]) (3.1.1)\n",
            "Requirement already satisfied: fsspec>=2021.09.0 in /usr/local/lib/python3.11/dist-packages (from dask[complete]) (2025.3.0)\n",
            "Requirement already satisfied: packaging>=20.0 in /usr/local/lib/python3.11/dist-packages (from dask[complete]) (24.2)\n",
            "Requirement already satisfied: partd>=1.4.0 in /usr/local/lib/python3.11/dist-packages (from dask[complete]) (1.4.2)\n",
            "Requirement already satisfied: pyyaml>=5.3.1 in /usr/local/lib/python3.11/dist-packages (from dask[complete]) (6.0.2)\n",
            "Requirement already satisfied: toolz>=0.10.0 in /usr/local/lib/python3.11/dist-packages (from dask[complete]) (0.12.1)\n",
            "Requirement already satisfied: importlib_metadata>=4.13.0 in /usr/local/lib/python3.11/dist-packages (from dask[complete]) (8.6.1)\n",
            "Requirement already satisfied: pyarrow>=14.0.1 in /usr/local/lib/python3.11/dist-packages (from dask[complete]) (18.1.0)\n",
            "Collecting lz4>=4.3.2 (from dask[complete])\n",
            "  Downloading lz4-4.4.3-cp311-cp311-manylinux_2_17_x86_64.manylinux2014_x86_64.whl.metadata (3.8 kB)\n",
            "Requirement already satisfied: zipp>=3.20 in /usr/local/lib/python3.11/dist-packages (from importlib_metadata>=4.13.0->dask[complete]) (3.21.0)\n",
            "Requirement already satisfied: locket in /usr/local/lib/python3.11/dist-packages (from partd>=1.4.0->dask[complete]) (1.0.0)\n",
            "Requirement already satisfied: numpy>=1.24 in /usr/local/lib/python3.11/dist-packages (from dask[complete]) (2.0.2)\n",
            "Requirement already satisfied: pandas>=2.0 in /usr/local/lib/python3.11/dist-packages (from dask[complete]) (2.2.2)\n",
            "Requirement already satisfied: dask-expr<1.2,>=1.1 in /usr/local/lib/python3.11/dist-packages (from dask[complete]) (1.1.21)\n",
            "Requirement already satisfied: distributed==2024.12.1 in /usr/local/lib/python3.11/dist-packages (from dask[complete]) (2024.12.1)\n",
            "Requirement already satisfied: bokeh>=3.1.0 in /usr/local/lib/python3.11/dist-packages (from dask[complete]) (3.6.3)\n",
            "Requirement already satisfied: jinja2>=2.10.3 in /usr/local/lib/python3.11/dist-packages (from dask[complete]) (3.1.6)\n",
            "Requirement already satisfied: msgpack>=1.0.2 in /usr/local/lib/python3.11/dist-packages (from distributed==2024.12.1->dask[complete]) (1.1.0)\n",
            "Requirement already satisfied: psutil>=5.8.0 in /usr/local/lib/python3.11/dist-packages (from distributed==2024.12.1->dask[complete]) (5.9.5)\n",
            "Requirement already satisfied: sortedcontainers>=2.0.5 in /usr/local/lib/python3.11/dist-packages (from distributed==2024.12.1->dask[complete]) (2.4.0)\n",
            "Requirement already satisfied: tblib>=1.6.0 in /usr/local/lib/python3.11/dist-packages (from distributed==2024.12.1->dask[complete]) (3.0.0)\n",
            "Requirement already satisfied: tornado>=6.2.0 in /usr/local/lib/python3.11/dist-packages (from distributed==2024.12.1->dask[complete]) (6.4.2)\n",
            "Requirement already satisfied: urllib3>=1.26.5 in /usr/local/lib/python3.11/dist-packages (from distributed==2024.12.1->dask[complete]) (2.3.0)\n",
            "Requirement already satisfied: zict>=3.0.0 in /usr/local/lib/python3.11/dist-packages (from distributed==2024.12.1->dask[complete]) (3.0.0)\n",
            "Requirement already satisfied: contourpy>=1.2 in /usr/local/lib/python3.11/dist-packages (from bokeh>=3.1.0->dask[complete]) (1.3.1)\n",
            "Requirement already satisfied: pillow>=7.1.0 in /usr/local/lib/python3.11/dist-packages (from bokeh>=3.1.0->dask[complete]) (11.1.0)\n",
            "Requirement already satisfied: xyzservices>=2021.09.1 in /usr/local/lib/python3.11/dist-packages (from bokeh>=3.1.0->dask[complete]) (2025.1.0)\n",
            "Requirement already satisfied: MarkupSafe>=2.0 in /usr/local/lib/python3.11/dist-packages (from jinja2>=2.10.3->dask[complete]) (3.0.2)\n",
            "Requirement already satisfied: python-dateutil>=2.8.2 in /usr/local/lib/python3.11/dist-packages (from pandas>=2.0->dask[complete]) (2.8.2)\n",
            "Requirement already satisfied: pytz>=2020.1 in /usr/local/lib/python3.11/dist-packages (from pandas>=2.0->dask[complete]) (2025.1)\n",
            "Requirement already satisfied: tzdata>=2022.7 in /usr/local/lib/python3.11/dist-packages (from pandas>=2.0->dask[complete]) (2025.1)\n",
            "Requirement already satisfied: six>=1.5 in /usr/local/lib/python3.11/dist-packages (from python-dateutil>=2.8.2->pandas>=2.0->dask[complete]) (1.17.0)\n",
            "Downloading lz4-4.4.3-cp311-cp311-manylinux_2_17_x86_64.manylinux2014_x86_64.whl (1.3 MB)\n",
            "\u001b[2K   \u001b[90m━━━━━━━━━━━━━━━━━━━━━━━━━━━━━━━━━━━━━━━━\u001b[0m \u001b[32m1.3/1.3 MB\u001b[0m \u001b[31m19.2 MB/s\u001b[0m eta \u001b[36m0:00:00\u001b[0m\n",
            "\u001b[?25hInstalling collected packages: lz4\n",
            "Successfully installed lz4-4.4.3\n"
          ]
        }
      ],
      "source": [
        "!pip install \"dask[complete]\""
      ]
    },
    {
      "cell_type": "code",
      "execution_count": 9,
      "metadata": {
        "id": "dI_jkXIpRCrb"
      },
      "outputs": [],
      "source": [
        "# import libraries\n",
        "import sys\n",
        "import os\n",
        "\n",
        "## import dask libraries\n",
        "import dask.dataframe as dd\n",
        "from dask.diagnostics import ProgressBar\n",
        "\n",
        "# import libraries\n",
        "import pandas as pd"
      ]
    },
    {
      "cell_type": "code",
      "execution_count": 10,
      "metadata": {
        "colab": {
          "base_uri": "https://localhost:8080/"
        },
        "id": "s7bRhBP1RMWM",
        "outputId": "cc2db134-79af-4abe-f93a-a7fdeaec6536"
      },
      "outputs": [
        {
          "output_type": "stream",
          "name": "stdout",
          "text": [
            " /usr/bin/python3\n",
            " /content\n"
          ]
        }
      ],
      "source": [
        "cwd = os.getcwd()\n",
        "\n",
        "# print\n",
        "print('', sys.executable)\n",
        "print('', cwd)"
      ]
    },
    {
      "cell_type": "markdown",
      "metadata": {
        "id": "6urWGTT4RScT"
      },
      "source": [
        "`2.1.2.` **Загрузить данные.**"
      ]
    },
    {
      "cell_type": "code",
      "source": [
        "df = dd.read_csv('/content/drive/MyDrive/Проектный практикум по ETL/Parking_Violations_Issued_-_Fiscal_Year_2017.csv')\n",
        "df"
      ],
      "metadata": {
        "colab": {
          "base_uri": "https://localhost:8080/",
          "height": 362
        },
        "id": "EI2i0U8gjMZG",
        "outputId": "cfef22e1-0cae-4c48-ef45-65cff6d82600"
      },
      "execution_count": 11,
      "outputs": [
        {
          "output_type": "execute_result",
          "data": {
            "text/plain": [
              "Dask DataFrame Structure:\n",
              "               Summons Number Plate ID Registration State Plate Type Issue Date Violation Code Vehicle Body Type Vehicle Make Issuing Agency Street Code1 Street Code2 Street Code3 Vehicle Expiration Date Violation Location Violation Precinct Issuer Precinct Issuer Code Issuer Command Issuer Squad Violation Time Time First Observed Violation County Violation In Front Of Or Opposite House Number Street Name Intersecting Street Date First Observed Law Section Sub Division Violation Legal Code Days Parking In Effect     From Hours In Effect To Hours In Effect Vehicle Color Unregistered Vehicle? Vehicle Year Meter Number Feet From Curb Violation Post Code Violation Description No Standing or Stopping Violation Hydrant Violation Double Parking Violation\n",
              "npartitions=32                                                                                                                                                                                                                                                                                                                                                                                                                                                                                                                                                                                                                                                                                                                                                                       \n",
              "                        int64   string             string     string     string          int64            string       string         string        int64        int64        int64                   int64            float64              int64           int64       int64         string       string         string             float64           string                            string      float64      string              string               int64       int64       string               string                     string               string             string        string               float64        int64       string          int64              string                string                           float64           float64                  float64\n",
              "                          ...      ...                ...        ...        ...            ...               ...          ...            ...          ...          ...          ...                     ...                ...                ...             ...         ...            ...          ...            ...                 ...              ...                               ...          ...         ...                 ...                 ...         ...          ...                  ...                        ...                  ...                ...           ...                   ...          ...          ...            ...                 ...                   ...                               ...               ...                      ...\n",
              "...                       ...      ...                ...        ...        ...            ...               ...          ...            ...          ...          ...          ...                     ...                ...                ...             ...         ...            ...          ...            ...                 ...              ...                               ...          ...         ...                 ...                 ...         ...          ...                  ...                        ...                  ...                ...           ...                   ...          ...          ...            ...                 ...                   ...                               ...               ...                      ...\n",
              "                          ...      ...                ...        ...        ...            ...               ...          ...            ...          ...          ...          ...                     ...                ...                ...             ...         ...            ...          ...            ...                 ...              ...                               ...          ...         ...                 ...                 ...         ...          ...                  ...                        ...                  ...                ...           ...                   ...          ...          ...            ...                 ...                   ...                               ...               ...                      ...\n",
              "                          ...      ...                ...        ...        ...            ...               ...          ...            ...          ...          ...          ...                     ...                ...                ...             ...         ...            ...          ...            ...                 ...              ...                               ...          ...         ...                 ...                 ...         ...          ...                  ...                        ...                  ...                ...           ...                   ...          ...          ...            ...                 ...                   ...                               ...               ...                      ...\n",
              "Dask Name: to_string_dtype, 2 expressions\n",
              "Expr=ArrowStringConversion(frame=FromMapProjectable(ba6f755))"
            ],
            "text/html": [
              "<div><strong>Dask DataFrame Structure:</strong></div>\n",
              "<table border=\"1\" class=\"dataframe\">\n",
              "  <thead>\n",
              "    <tr style=\"text-align: right;\">\n",
              "      <th></th>\n",
              "      <th>Summons Number</th>\n",
              "      <th>Plate ID</th>\n",
              "      <th>Registration State</th>\n",
              "      <th>Plate Type</th>\n",
              "      <th>Issue Date</th>\n",
              "      <th>Violation Code</th>\n",
              "      <th>Vehicle Body Type</th>\n",
              "      <th>Vehicle Make</th>\n",
              "      <th>Issuing Agency</th>\n",
              "      <th>Street Code1</th>\n",
              "      <th>Street Code2</th>\n",
              "      <th>Street Code3</th>\n",
              "      <th>Vehicle Expiration Date</th>\n",
              "      <th>Violation Location</th>\n",
              "      <th>Violation Precinct</th>\n",
              "      <th>Issuer Precinct</th>\n",
              "      <th>Issuer Code</th>\n",
              "      <th>Issuer Command</th>\n",
              "      <th>Issuer Squad</th>\n",
              "      <th>Violation Time</th>\n",
              "      <th>Time First Observed</th>\n",
              "      <th>Violation County</th>\n",
              "      <th>Violation In Front Of Or Opposite</th>\n",
              "      <th>House Number</th>\n",
              "      <th>Street Name</th>\n",
              "      <th>Intersecting Street</th>\n",
              "      <th>Date First Observed</th>\n",
              "      <th>Law Section</th>\n",
              "      <th>Sub Division</th>\n",
              "      <th>Violation Legal Code</th>\n",
              "      <th>Days Parking In Effect</th>\n",
              "      <th>From Hours In Effect</th>\n",
              "      <th>To Hours In Effect</th>\n",
              "      <th>Vehicle Color</th>\n",
              "      <th>Unregistered Vehicle?</th>\n",
              "      <th>Vehicle Year</th>\n",
              "      <th>Meter Number</th>\n",
              "      <th>Feet From Curb</th>\n",
              "      <th>Violation Post Code</th>\n",
              "      <th>Violation Description</th>\n",
              "      <th>No Standing or Stopping Violation</th>\n",
              "      <th>Hydrant Violation</th>\n",
              "      <th>Double Parking Violation</th>\n",
              "    </tr>\n",
              "    <tr>\n",
              "      <th>npartitions=32</th>\n",
              "      <th></th>\n",
              "      <th></th>\n",
              "      <th></th>\n",
              "      <th></th>\n",
              "      <th></th>\n",
              "      <th></th>\n",
              "      <th></th>\n",
              "      <th></th>\n",
              "      <th></th>\n",
              "      <th></th>\n",
              "      <th></th>\n",
              "      <th></th>\n",
              "      <th></th>\n",
              "      <th></th>\n",
              "      <th></th>\n",
              "      <th></th>\n",
              "      <th></th>\n",
              "      <th></th>\n",
              "      <th></th>\n",
              "      <th></th>\n",
              "      <th></th>\n",
              "      <th></th>\n",
              "      <th></th>\n",
              "      <th></th>\n",
              "      <th></th>\n",
              "      <th></th>\n",
              "      <th></th>\n",
              "      <th></th>\n",
              "      <th></th>\n",
              "      <th></th>\n",
              "      <th></th>\n",
              "      <th></th>\n",
              "      <th></th>\n",
              "      <th></th>\n",
              "      <th></th>\n",
              "      <th></th>\n",
              "      <th></th>\n",
              "      <th></th>\n",
              "      <th></th>\n",
              "      <th></th>\n",
              "      <th></th>\n",
              "      <th></th>\n",
              "      <th></th>\n",
              "    </tr>\n",
              "  </thead>\n",
              "  <tbody>\n",
              "    <tr>\n",
              "      <th></th>\n",
              "      <td>int64</td>\n",
              "      <td>string</td>\n",
              "      <td>string</td>\n",
              "      <td>string</td>\n",
              "      <td>string</td>\n",
              "      <td>int64</td>\n",
              "      <td>string</td>\n",
              "      <td>string</td>\n",
              "      <td>string</td>\n",
              "      <td>int64</td>\n",
              "      <td>int64</td>\n",
              "      <td>int64</td>\n",
              "      <td>int64</td>\n",
              "      <td>float64</td>\n",
              "      <td>int64</td>\n",
              "      <td>int64</td>\n",
              "      <td>int64</td>\n",
              "      <td>string</td>\n",
              "      <td>string</td>\n",
              "      <td>string</td>\n",
              "      <td>float64</td>\n",
              "      <td>string</td>\n",
              "      <td>string</td>\n",
              "      <td>float64</td>\n",
              "      <td>string</td>\n",
              "      <td>string</td>\n",
              "      <td>int64</td>\n",
              "      <td>int64</td>\n",
              "      <td>string</td>\n",
              "      <td>string</td>\n",
              "      <td>string</td>\n",
              "      <td>string</td>\n",
              "      <td>string</td>\n",
              "      <td>string</td>\n",
              "      <td>float64</td>\n",
              "      <td>int64</td>\n",
              "      <td>string</td>\n",
              "      <td>int64</td>\n",
              "      <td>string</td>\n",
              "      <td>string</td>\n",
              "      <td>float64</td>\n",
              "      <td>float64</td>\n",
              "      <td>float64</td>\n",
              "    </tr>\n",
              "    <tr>\n",
              "      <th></th>\n",
              "      <td>...</td>\n",
              "      <td>...</td>\n",
              "      <td>...</td>\n",
              "      <td>...</td>\n",
              "      <td>...</td>\n",
              "      <td>...</td>\n",
              "      <td>...</td>\n",
              "      <td>...</td>\n",
              "      <td>...</td>\n",
              "      <td>...</td>\n",
              "      <td>...</td>\n",
              "      <td>...</td>\n",
              "      <td>...</td>\n",
              "      <td>...</td>\n",
              "      <td>...</td>\n",
              "      <td>...</td>\n",
              "      <td>...</td>\n",
              "      <td>...</td>\n",
              "      <td>...</td>\n",
              "      <td>...</td>\n",
              "      <td>...</td>\n",
              "      <td>...</td>\n",
              "      <td>...</td>\n",
              "      <td>...</td>\n",
              "      <td>...</td>\n",
              "      <td>...</td>\n",
              "      <td>...</td>\n",
              "      <td>...</td>\n",
              "      <td>...</td>\n",
              "      <td>...</td>\n",
              "      <td>...</td>\n",
              "      <td>...</td>\n",
              "      <td>...</td>\n",
              "      <td>...</td>\n",
              "      <td>...</td>\n",
              "      <td>...</td>\n",
              "      <td>...</td>\n",
              "      <td>...</td>\n",
              "      <td>...</td>\n",
              "      <td>...</td>\n",
              "      <td>...</td>\n",
              "      <td>...</td>\n",
              "      <td>...</td>\n",
              "    </tr>\n",
              "    <tr>\n",
              "      <th>...</th>\n",
              "      <td>...</td>\n",
              "      <td>...</td>\n",
              "      <td>...</td>\n",
              "      <td>...</td>\n",
              "      <td>...</td>\n",
              "      <td>...</td>\n",
              "      <td>...</td>\n",
              "      <td>...</td>\n",
              "      <td>...</td>\n",
              "      <td>...</td>\n",
              "      <td>...</td>\n",
              "      <td>...</td>\n",
              "      <td>...</td>\n",
              "      <td>...</td>\n",
              "      <td>...</td>\n",
              "      <td>...</td>\n",
              "      <td>...</td>\n",
              "      <td>...</td>\n",
              "      <td>...</td>\n",
              "      <td>...</td>\n",
              "      <td>...</td>\n",
              "      <td>...</td>\n",
              "      <td>...</td>\n",
              "      <td>...</td>\n",
              "      <td>...</td>\n",
              "      <td>...</td>\n",
              "      <td>...</td>\n",
              "      <td>...</td>\n",
              "      <td>...</td>\n",
              "      <td>...</td>\n",
              "      <td>...</td>\n",
              "      <td>...</td>\n",
              "      <td>...</td>\n",
              "      <td>...</td>\n",
              "      <td>...</td>\n",
              "      <td>...</td>\n",
              "      <td>...</td>\n",
              "      <td>...</td>\n",
              "      <td>...</td>\n",
              "      <td>...</td>\n",
              "      <td>...</td>\n",
              "      <td>...</td>\n",
              "      <td>...</td>\n",
              "    </tr>\n",
              "    <tr>\n",
              "      <th></th>\n",
              "      <td>...</td>\n",
              "      <td>...</td>\n",
              "      <td>...</td>\n",
              "      <td>...</td>\n",
              "      <td>...</td>\n",
              "      <td>...</td>\n",
              "      <td>...</td>\n",
              "      <td>...</td>\n",
              "      <td>...</td>\n",
              "      <td>...</td>\n",
              "      <td>...</td>\n",
              "      <td>...</td>\n",
              "      <td>...</td>\n",
              "      <td>...</td>\n",
              "      <td>...</td>\n",
              "      <td>...</td>\n",
              "      <td>...</td>\n",
              "      <td>...</td>\n",
              "      <td>...</td>\n",
              "      <td>...</td>\n",
              "      <td>...</td>\n",
              "      <td>...</td>\n",
              "      <td>...</td>\n",
              "      <td>...</td>\n",
              "      <td>...</td>\n",
              "      <td>...</td>\n",
              "      <td>...</td>\n",
              "      <td>...</td>\n",
              "      <td>...</td>\n",
              "      <td>...</td>\n",
              "      <td>...</td>\n",
              "      <td>...</td>\n",
              "      <td>...</td>\n",
              "      <td>...</td>\n",
              "      <td>...</td>\n",
              "      <td>...</td>\n",
              "      <td>...</td>\n",
              "      <td>...</td>\n",
              "      <td>...</td>\n",
              "      <td>...</td>\n",
              "      <td>...</td>\n",
              "      <td>...</td>\n",
              "      <td>...</td>\n",
              "    </tr>\n",
              "    <tr>\n",
              "      <th></th>\n",
              "      <td>...</td>\n",
              "      <td>...</td>\n",
              "      <td>...</td>\n",
              "      <td>...</td>\n",
              "      <td>...</td>\n",
              "      <td>...</td>\n",
              "      <td>...</td>\n",
              "      <td>...</td>\n",
              "      <td>...</td>\n",
              "      <td>...</td>\n",
              "      <td>...</td>\n",
              "      <td>...</td>\n",
              "      <td>...</td>\n",
              "      <td>...</td>\n",
              "      <td>...</td>\n",
              "      <td>...</td>\n",
              "      <td>...</td>\n",
              "      <td>...</td>\n",
              "      <td>...</td>\n",
              "      <td>...</td>\n",
              "      <td>...</td>\n",
              "      <td>...</td>\n",
              "      <td>...</td>\n",
              "      <td>...</td>\n",
              "      <td>...</td>\n",
              "      <td>...</td>\n",
              "      <td>...</td>\n",
              "      <td>...</td>\n",
              "      <td>...</td>\n",
              "      <td>...</td>\n",
              "      <td>...</td>\n",
              "      <td>...</td>\n",
              "      <td>...</td>\n",
              "      <td>...</td>\n",
              "      <td>...</td>\n",
              "      <td>...</td>\n",
              "      <td>...</td>\n",
              "      <td>...</td>\n",
              "      <td>...</td>\n",
              "      <td>...</td>\n",
              "      <td>...</td>\n",
              "      <td>...</td>\n",
              "      <td>...</td>\n",
              "    </tr>\n",
              "  </tbody>\n",
              "</table>\n",
              "<div>Dask Name: to_string_dtype, 2 expressions</div>"
            ]
          },
          "metadata": {},
          "execution_count": 11
        }
      ]
    },
    {
      "cell_type": "code",
      "source": [
        "dtype = {\n",
        "    'House Number': 'object',\n",
        "    'Time First Observed': 'object'\n",
        "}"
      ],
      "metadata": {
        "id": "1BACnnma0vA0"
      },
      "execution_count": 6,
      "outputs": []
    },
    {
      "cell_type": "code",
      "source": [
        "df = dd.read_csv('/content/drive/MyDrive/Проектный практикум по ETL/Parking_Violations_Issued_-_Fiscal_Year_2017.csv',\n",
        "    dtype=dtype\n",
        ")"
      ],
      "metadata": {
        "id": "JLl7d_aB4lws"
      },
      "execution_count": 12,
      "outputs": []
    },
    {
      "cell_type": "code",
      "source": [
        "df.head(10)"
      ],
      "metadata": {
        "colab": {
          "base_uri": "https://localhost:8080/",
          "height": 583
        },
        "id": "-bNYOsqgznJw",
        "outputId": "eed6b904-7cc6-45ae-daf2-88b6dd571cca"
      },
      "execution_count": 13,
      "outputs": [
        {
          "output_type": "execute_result",
          "data": {
            "text/plain": [
              "   Summons Number Plate ID Registration State Plate Type  Issue Date  \\\n",
              "0      5092469481  GZH7067                 NY        PAS  07/10/2016   \n",
              "1      5092451658  GZH7067                 NY        PAS  07/08/2016   \n",
              "2      4006265037  FZX9232                 NY        PAS  08/23/2016   \n",
              "3      8478629828  66623ME                 NY        COM  06/14/2017   \n",
              "4      7868300310  37033JV                 NY        COM  11/21/2016   \n",
              "5      5096917368  FZD8593                 NY        PAS  06/13/2017   \n",
              "6      1413609545   X20DCM                 NJ        PAS  08/03/2016   \n",
              "7      4628525523   326SF9                 MA        PAS  12/21/2016   \n",
              "8      4627113330  HCA5464                 NY        OMS  11/21/2016   \n",
              "9      4006478550  VAD7274                 VA        PAS  10/05/2016   \n",
              "\n",
              "   Violation Code Vehicle Body Type Vehicle Make Issuing Agency  Street Code1  \\\n",
              "0               7              SUBN        TOYOT              V             0   \n",
              "1               7              SUBN        TOYOT              V             0   \n",
              "2               5              SUBN         FORD              V             0   \n",
              "3              47              REFG        MITSU              T         10610   \n",
              "4              69              DELV        INTER              T         10510   \n",
              "5               7              SUBN        ME/BE              V             0   \n",
              "6              40               SDN        TOYOT              P         54070   \n",
              "7              36                UT          BMW              V             0   \n",
              "8              36              SUBN        DODGE              V             0   \n",
              "9               5                4D          BMW              V             0   \n",
              "\n",
              "   ...  Vehicle Color  Unregistered Vehicle?  Vehicle Year  Meter Number  \\\n",
              "0  ...             GY                    NaN          2001          <NA>   \n",
              "1  ...             GY                    NaN          2001          <NA>   \n",
              "2  ...             BK                    NaN          2004          <NA>   \n",
              "3  ...             WH                    NaN          2007          <NA>   \n",
              "4  ...          WHITE                    NaN          2007          <NA>   \n",
              "5  ...             WH                    NaN          2012          <NA>   \n",
              "6  ...          WHITE                    0.0             0             -   \n",
              "7  ...           <NA>                    NaN          2001          <NA>   \n",
              "8  ...             BK                    NaN          2016          <NA>   \n",
              "9  ...            BLK                    NaN          2008          <NA>   \n",
              "\n",
              "   Feet From Curb  Violation Post Code           Violation Description  \\\n",
              "0               0                 <NA>    FAILURE TO STOP AT RED LIGHT   \n",
              "1               0                 <NA>    FAILURE TO STOP AT RED LIGHT   \n",
              "2               0                 <NA>              BUS LANE VIOLATION   \n",
              "3               0                   04           47-Double PKG-Midtown   \n",
              "4               0                 31 6   69-Failure to Disp Muni Recpt   \n",
              "5               0                 <NA>    FAILURE TO STOP AT RED LIGHT   \n",
              "6               1                 <NA>                            <NA>   \n",
              "7               0                 <NA>  PHTO SCHOOL ZN SPEED VIOLATION   \n",
              "8               0                 <NA>  PHTO SCHOOL ZN SPEED VIOLATION   \n",
              "9               0                 <NA>              BUS LANE VIOLATION   \n",
              "\n",
              "  No Standing or Stopping Violation Hydrant Violation Double Parking Violation  \n",
              "0                               NaN               NaN                      NaN  \n",
              "1                               NaN               NaN                      NaN  \n",
              "2                               NaN               NaN                      NaN  \n",
              "3                               NaN               NaN                      NaN  \n",
              "4                               NaN               NaN                      NaN  \n",
              "5                               NaN               NaN                      NaN  \n",
              "6                               NaN               NaN                      NaN  \n",
              "7                               NaN               NaN                      NaN  \n",
              "8                               NaN               NaN                      NaN  \n",
              "9                               NaN               NaN                      NaN  \n",
              "\n",
              "[10 rows x 43 columns]"
            ],
            "text/html": [
              "\n",
              "  <div id=\"df-d1d84c1d-c790-4884-a3f4-809867d1b3c0\" class=\"colab-df-container\">\n",
              "    <div>\n",
              "<style scoped>\n",
              "    .dataframe tbody tr th:only-of-type {\n",
              "        vertical-align: middle;\n",
              "    }\n",
              "\n",
              "    .dataframe tbody tr th {\n",
              "        vertical-align: top;\n",
              "    }\n",
              "\n",
              "    .dataframe thead th {\n",
              "        text-align: right;\n",
              "    }\n",
              "</style>\n",
              "<table border=\"1\" class=\"dataframe\">\n",
              "  <thead>\n",
              "    <tr style=\"text-align: right;\">\n",
              "      <th></th>\n",
              "      <th>Summons Number</th>\n",
              "      <th>Plate ID</th>\n",
              "      <th>Registration State</th>\n",
              "      <th>Plate Type</th>\n",
              "      <th>Issue Date</th>\n",
              "      <th>Violation Code</th>\n",
              "      <th>Vehicle Body Type</th>\n",
              "      <th>Vehicle Make</th>\n",
              "      <th>Issuing Agency</th>\n",
              "      <th>Street Code1</th>\n",
              "      <th>...</th>\n",
              "      <th>Vehicle Color</th>\n",
              "      <th>Unregistered Vehicle?</th>\n",
              "      <th>Vehicle Year</th>\n",
              "      <th>Meter Number</th>\n",
              "      <th>Feet From Curb</th>\n",
              "      <th>Violation Post Code</th>\n",
              "      <th>Violation Description</th>\n",
              "      <th>No Standing or Stopping Violation</th>\n",
              "      <th>Hydrant Violation</th>\n",
              "      <th>Double Parking Violation</th>\n",
              "    </tr>\n",
              "  </thead>\n",
              "  <tbody>\n",
              "    <tr>\n",
              "      <th>0</th>\n",
              "      <td>5092469481</td>\n",
              "      <td>GZH7067</td>\n",
              "      <td>NY</td>\n",
              "      <td>PAS</td>\n",
              "      <td>07/10/2016</td>\n",
              "      <td>7</td>\n",
              "      <td>SUBN</td>\n",
              "      <td>TOYOT</td>\n",
              "      <td>V</td>\n",
              "      <td>0</td>\n",
              "      <td>...</td>\n",
              "      <td>GY</td>\n",
              "      <td>NaN</td>\n",
              "      <td>2001</td>\n",
              "      <td>&lt;NA&gt;</td>\n",
              "      <td>0</td>\n",
              "      <td>&lt;NA&gt;</td>\n",
              "      <td>FAILURE TO STOP AT RED LIGHT</td>\n",
              "      <td>NaN</td>\n",
              "      <td>NaN</td>\n",
              "      <td>NaN</td>\n",
              "    </tr>\n",
              "    <tr>\n",
              "      <th>1</th>\n",
              "      <td>5092451658</td>\n",
              "      <td>GZH7067</td>\n",
              "      <td>NY</td>\n",
              "      <td>PAS</td>\n",
              "      <td>07/08/2016</td>\n",
              "      <td>7</td>\n",
              "      <td>SUBN</td>\n",
              "      <td>TOYOT</td>\n",
              "      <td>V</td>\n",
              "      <td>0</td>\n",
              "      <td>...</td>\n",
              "      <td>GY</td>\n",
              "      <td>NaN</td>\n",
              "      <td>2001</td>\n",
              "      <td>&lt;NA&gt;</td>\n",
              "      <td>0</td>\n",
              "      <td>&lt;NA&gt;</td>\n",
              "      <td>FAILURE TO STOP AT RED LIGHT</td>\n",
              "      <td>NaN</td>\n",
              "      <td>NaN</td>\n",
              "      <td>NaN</td>\n",
              "    </tr>\n",
              "    <tr>\n",
              "      <th>2</th>\n",
              "      <td>4006265037</td>\n",
              "      <td>FZX9232</td>\n",
              "      <td>NY</td>\n",
              "      <td>PAS</td>\n",
              "      <td>08/23/2016</td>\n",
              "      <td>5</td>\n",
              "      <td>SUBN</td>\n",
              "      <td>FORD</td>\n",
              "      <td>V</td>\n",
              "      <td>0</td>\n",
              "      <td>...</td>\n",
              "      <td>BK</td>\n",
              "      <td>NaN</td>\n",
              "      <td>2004</td>\n",
              "      <td>&lt;NA&gt;</td>\n",
              "      <td>0</td>\n",
              "      <td>&lt;NA&gt;</td>\n",
              "      <td>BUS LANE VIOLATION</td>\n",
              "      <td>NaN</td>\n",
              "      <td>NaN</td>\n",
              "      <td>NaN</td>\n",
              "    </tr>\n",
              "    <tr>\n",
              "      <th>3</th>\n",
              "      <td>8478629828</td>\n",
              "      <td>66623ME</td>\n",
              "      <td>NY</td>\n",
              "      <td>COM</td>\n",
              "      <td>06/14/2017</td>\n",
              "      <td>47</td>\n",
              "      <td>REFG</td>\n",
              "      <td>MITSU</td>\n",
              "      <td>T</td>\n",
              "      <td>10610</td>\n",
              "      <td>...</td>\n",
              "      <td>WH</td>\n",
              "      <td>NaN</td>\n",
              "      <td>2007</td>\n",
              "      <td>&lt;NA&gt;</td>\n",
              "      <td>0</td>\n",
              "      <td>04</td>\n",
              "      <td>47-Double PKG-Midtown</td>\n",
              "      <td>NaN</td>\n",
              "      <td>NaN</td>\n",
              "      <td>NaN</td>\n",
              "    </tr>\n",
              "    <tr>\n",
              "      <th>4</th>\n",
              "      <td>7868300310</td>\n",
              "      <td>37033JV</td>\n",
              "      <td>NY</td>\n",
              "      <td>COM</td>\n",
              "      <td>11/21/2016</td>\n",
              "      <td>69</td>\n",
              "      <td>DELV</td>\n",
              "      <td>INTER</td>\n",
              "      <td>T</td>\n",
              "      <td>10510</td>\n",
              "      <td>...</td>\n",
              "      <td>WHITE</td>\n",
              "      <td>NaN</td>\n",
              "      <td>2007</td>\n",
              "      <td>&lt;NA&gt;</td>\n",
              "      <td>0</td>\n",
              "      <td>31 6</td>\n",
              "      <td>69-Failure to Disp Muni Recpt</td>\n",
              "      <td>NaN</td>\n",
              "      <td>NaN</td>\n",
              "      <td>NaN</td>\n",
              "    </tr>\n",
              "    <tr>\n",
              "      <th>5</th>\n",
              "      <td>5096917368</td>\n",
              "      <td>FZD8593</td>\n",
              "      <td>NY</td>\n",
              "      <td>PAS</td>\n",
              "      <td>06/13/2017</td>\n",
              "      <td>7</td>\n",
              "      <td>SUBN</td>\n",
              "      <td>ME/BE</td>\n",
              "      <td>V</td>\n",
              "      <td>0</td>\n",
              "      <td>...</td>\n",
              "      <td>WH</td>\n",
              "      <td>NaN</td>\n",
              "      <td>2012</td>\n",
              "      <td>&lt;NA&gt;</td>\n",
              "      <td>0</td>\n",
              "      <td>&lt;NA&gt;</td>\n",
              "      <td>FAILURE TO STOP AT RED LIGHT</td>\n",
              "      <td>NaN</td>\n",
              "      <td>NaN</td>\n",
              "      <td>NaN</td>\n",
              "    </tr>\n",
              "    <tr>\n",
              "      <th>6</th>\n",
              "      <td>1413609545</td>\n",
              "      <td>X20DCM</td>\n",
              "      <td>NJ</td>\n",
              "      <td>PAS</td>\n",
              "      <td>08/03/2016</td>\n",
              "      <td>40</td>\n",
              "      <td>SDN</td>\n",
              "      <td>TOYOT</td>\n",
              "      <td>P</td>\n",
              "      <td>54070</td>\n",
              "      <td>...</td>\n",
              "      <td>WHITE</td>\n",
              "      <td>0.0</td>\n",
              "      <td>0</td>\n",
              "      <td>-</td>\n",
              "      <td>1</td>\n",
              "      <td>&lt;NA&gt;</td>\n",
              "      <td>&lt;NA&gt;</td>\n",
              "      <td>NaN</td>\n",
              "      <td>NaN</td>\n",
              "      <td>NaN</td>\n",
              "    </tr>\n",
              "    <tr>\n",
              "      <th>7</th>\n",
              "      <td>4628525523</td>\n",
              "      <td>326SF9</td>\n",
              "      <td>MA</td>\n",
              "      <td>PAS</td>\n",
              "      <td>12/21/2016</td>\n",
              "      <td>36</td>\n",
              "      <td>UT</td>\n",
              "      <td>BMW</td>\n",
              "      <td>V</td>\n",
              "      <td>0</td>\n",
              "      <td>...</td>\n",
              "      <td>&lt;NA&gt;</td>\n",
              "      <td>NaN</td>\n",
              "      <td>2001</td>\n",
              "      <td>&lt;NA&gt;</td>\n",
              "      <td>0</td>\n",
              "      <td>&lt;NA&gt;</td>\n",
              "      <td>PHTO SCHOOL ZN SPEED VIOLATION</td>\n",
              "      <td>NaN</td>\n",
              "      <td>NaN</td>\n",
              "      <td>NaN</td>\n",
              "    </tr>\n",
              "    <tr>\n",
              "      <th>8</th>\n",
              "      <td>4627113330</td>\n",
              "      <td>HCA5464</td>\n",
              "      <td>NY</td>\n",
              "      <td>OMS</td>\n",
              "      <td>11/21/2016</td>\n",
              "      <td>36</td>\n",
              "      <td>SUBN</td>\n",
              "      <td>DODGE</td>\n",
              "      <td>V</td>\n",
              "      <td>0</td>\n",
              "      <td>...</td>\n",
              "      <td>BK</td>\n",
              "      <td>NaN</td>\n",
              "      <td>2016</td>\n",
              "      <td>&lt;NA&gt;</td>\n",
              "      <td>0</td>\n",
              "      <td>&lt;NA&gt;</td>\n",
              "      <td>PHTO SCHOOL ZN SPEED VIOLATION</td>\n",
              "      <td>NaN</td>\n",
              "      <td>NaN</td>\n",
              "      <td>NaN</td>\n",
              "    </tr>\n",
              "    <tr>\n",
              "      <th>9</th>\n",
              "      <td>4006478550</td>\n",
              "      <td>VAD7274</td>\n",
              "      <td>VA</td>\n",
              "      <td>PAS</td>\n",
              "      <td>10/05/2016</td>\n",
              "      <td>5</td>\n",
              "      <td>4D</td>\n",
              "      <td>BMW</td>\n",
              "      <td>V</td>\n",
              "      <td>0</td>\n",
              "      <td>...</td>\n",
              "      <td>BLK</td>\n",
              "      <td>NaN</td>\n",
              "      <td>2008</td>\n",
              "      <td>&lt;NA&gt;</td>\n",
              "      <td>0</td>\n",
              "      <td>&lt;NA&gt;</td>\n",
              "      <td>BUS LANE VIOLATION</td>\n",
              "      <td>NaN</td>\n",
              "      <td>NaN</td>\n",
              "      <td>NaN</td>\n",
              "    </tr>\n",
              "  </tbody>\n",
              "</table>\n",
              "<p>10 rows × 43 columns</p>\n",
              "</div>\n",
              "    <div class=\"colab-df-buttons\">\n",
              "\n",
              "  <div class=\"colab-df-container\">\n",
              "    <button class=\"colab-df-convert\" onclick=\"convertToInteractive('df-d1d84c1d-c790-4884-a3f4-809867d1b3c0')\"\n",
              "            title=\"Convert this dataframe to an interactive table.\"\n",
              "            style=\"display:none;\">\n",
              "\n",
              "  <svg xmlns=\"http://www.w3.org/2000/svg\" height=\"24px\" viewBox=\"0 -960 960 960\">\n",
              "    <path d=\"M120-120v-720h720v720H120Zm60-500h600v-160H180v160Zm220 220h160v-160H400v160Zm0 220h160v-160H400v160ZM180-400h160v-160H180v160Zm440 0h160v-160H620v160ZM180-180h160v-160H180v160Zm440 0h160v-160H620v160Z\"/>\n",
              "  </svg>\n",
              "    </button>\n",
              "\n",
              "  <style>\n",
              "    .colab-df-container {\n",
              "      display:flex;\n",
              "      gap: 12px;\n",
              "    }\n",
              "\n",
              "    .colab-df-convert {\n",
              "      background-color: #E8F0FE;\n",
              "      border: none;\n",
              "      border-radius: 50%;\n",
              "      cursor: pointer;\n",
              "      display: none;\n",
              "      fill: #1967D2;\n",
              "      height: 32px;\n",
              "      padding: 0 0 0 0;\n",
              "      width: 32px;\n",
              "    }\n",
              "\n",
              "    .colab-df-convert:hover {\n",
              "      background-color: #E2EBFA;\n",
              "      box-shadow: 0px 1px 2px rgba(60, 64, 67, 0.3), 0px 1px 3px 1px rgba(60, 64, 67, 0.15);\n",
              "      fill: #174EA6;\n",
              "    }\n",
              "\n",
              "    .colab-df-buttons div {\n",
              "      margin-bottom: 4px;\n",
              "    }\n",
              "\n",
              "    [theme=dark] .colab-df-convert {\n",
              "      background-color: #3B4455;\n",
              "      fill: #D2E3FC;\n",
              "    }\n",
              "\n",
              "    [theme=dark] .colab-df-convert:hover {\n",
              "      background-color: #434B5C;\n",
              "      box-shadow: 0px 1px 3px 1px rgba(0, 0, 0, 0.15);\n",
              "      filter: drop-shadow(0px 1px 2px rgba(0, 0, 0, 0.3));\n",
              "      fill: #FFFFFF;\n",
              "    }\n",
              "  </style>\n",
              "\n",
              "    <script>\n",
              "      const buttonEl =\n",
              "        document.querySelector('#df-d1d84c1d-c790-4884-a3f4-809867d1b3c0 button.colab-df-convert');\n",
              "      buttonEl.style.display =\n",
              "        google.colab.kernel.accessAllowed ? 'block' : 'none';\n",
              "\n",
              "      async function convertToInteractive(key) {\n",
              "        const element = document.querySelector('#df-d1d84c1d-c790-4884-a3f4-809867d1b3c0');\n",
              "        const dataTable =\n",
              "          await google.colab.kernel.invokeFunction('convertToInteractive',\n",
              "                                                    [key], {});\n",
              "        if (!dataTable) return;\n",
              "\n",
              "        const docLinkHtml = 'Like what you see? Visit the ' +\n",
              "          '<a target=\"_blank\" href=https://colab.research.google.com/notebooks/data_table.ipynb>data table notebook</a>'\n",
              "          + ' to learn more about interactive tables.';\n",
              "        element.innerHTML = '';\n",
              "        dataTable['output_type'] = 'display_data';\n",
              "        await google.colab.output.renderOutput(dataTable, element);\n",
              "        const docLink = document.createElement('div');\n",
              "        docLink.innerHTML = docLinkHtml;\n",
              "        element.appendChild(docLink);\n",
              "      }\n",
              "    </script>\n",
              "  </div>\n",
              "\n",
              "\n",
              "<div id=\"df-33118397-6063-4c2c-b692-0c25b7ce2642\">\n",
              "  <button class=\"colab-df-quickchart\" onclick=\"quickchart('df-33118397-6063-4c2c-b692-0c25b7ce2642')\"\n",
              "            title=\"Suggest charts\"\n",
              "            style=\"display:none;\">\n",
              "\n",
              "<svg xmlns=\"http://www.w3.org/2000/svg\" height=\"24px\"viewBox=\"0 0 24 24\"\n",
              "     width=\"24px\">\n",
              "    <g>\n",
              "        <path d=\"M19 3H5c-1.1 0-2 .9-2 2v14c0 1.1.9 2 2 2h14c1.1 0 2-.9 2-2V5c0-1.1-.9-2-2-2zM9 17H7v-7h2v7zm4 0h-2V7h2v10zm4 0h-2v-4h2v4z\"/>\n",
              "    </g>\n",
              "</svg>\n",
              "  </button>\n",
              "\n",
              "<style>\n",
              "  .colab-df-quickchart {\n",
              "      --bg-color: #E8F0FE;\n",
              "      --fill-color: #1967D2;\n",
              "      --hover-bg-color: #E2EBFA;\n",
              "      --hover-fill-color: #174EA6;\n",
              "      --disabled-fill-color: #AAA;\n",
              "      --disabled-bg-color: #DDD;\n",
              "  }\n",
              "\n",
              "  [theme=dark] .colab-df-quickchart {\n",
              "      --bg-color: #3B4455;\n",
              "      --fill-color: #D2E3FC;\n",
              "      --hover-bg-color: #434B5C;\n",
              "      --hover-fill-color: #FFFFFF;\n",
              "      --disabled-bg-color: #3B4455;\n",
              "      --disabled-fill-color: #666;\n",
              "  }\n",
              "\n",
              "  .colab-df-quickchart {\n",
              "    background-color: var(--bg-color);\n",
              "    border: none;\n",
              "    border-radius: 50%;\n",
              "    cursor: pointer;\n",
              "    display: none;\n",
              "    fill: var(--fill-color);\n",
              "    height: 32px;\n",
              "    padding: 0;\n",
              "    width: 32px;\n",
              "  }\n",
              "\n",
              "  .colab-df-quickchart:hover {\n",
              "    background-color: var(--hover-bg-color);\n",
              "    box-shadow: 0 1px 2px rgba(60, 64, 67, 0.3), 0 1px 3px 1px rgba(60, 64, 67, 0.15);\n",
              "    fill: var(--button-hover-fill-color);\n",
              "  }\n",
              "\n",
              "  .colab-df-quickchart-complete:disabled,\n",
              "  .colab-df-quickchart-complete:disabled:hover {\n",
              "    background-color: var(--disabled-bg-color);\n",
              "    fill: var(--disabled-fill-color);\n",
              "    box-shadow: none;\n",
              "  }\n",
              "\n",
              "  .colab-df-spinner {\n",
              "    border: 2px solid var(--fill-color);\n",
              "    border-color: transparent;\n",
              "    border-bottom-color: var(--fill-color);\n",
              "    animation:\n",
              "      spin 1s steps(1) infinite;\n",
              "  }\n",
              "\n",
              "  @keyframes spin {\n",
              "    0% {\n",
              "      border-color: transparent;\n",
              "      border-bottom-color: var(--fill-color);\n",
              "      border-left-color: var(--fill-color);\n",
              "    }\n",
              "    20% {\n",
              "      border-color: transparent;\n",
              "      border-left-color: var(--fill-color);\n",
              "      border-top-color: var(--fill-color);\n",
              "    }\n",
              "    30% {\n",
              "      border-color: transparent;\n",
              "      border-left-color: var(--fill-color);\n",
              "      border-top-color: var(--fill-color);\n",
              "      border-right-color: var(--fill-color);\n",
              "    }\n",
              "    40% {\n",
              "      border-color: transparent;\n",
              "      border-right-color: var(--fill-color);\n",
              "      border-top-color: var(--fill-color);\n",
              "    }\n",
              "    60% {\n",
              "      border-color: transparent;\n",
              "      border-right-color: var(--fill-color);\n",
              "    }\n",
              "    80% {\n",
              "      border-color: transparent;\n",
              "      border-right-color: var(--fill-color);\n",
              "      border-bottom-color: var(--fill-color);\n",
              "    }\n",
              "    90% {\n",
              "      border-color: transparent;\n",
              "      border-bottom-color: var(--fill-color);\n",
              "    }\n",
              "  }\n",
              "</style>\n",
              "\n",
              "  <script>\n",
              "    async function quickchart(key) {\n",
              "      const quickchartButtonEl =\n",
              "        document.querySelector('#' + key + ' button');\n",
              "      quickchartButtonEl.disabled = true;  // To prevent multiple clicks.\n",
              "      quickchartButtonEl.classList.add('colab-df-spinner');\n",
              "      try {\n",
              "        const charts = await google.colab.kernel.invokeFunction(\n",
              "            'suggestCharts', [key], {});\n",
              "      } catch (error) {\n",
              "        console.error('Error during call to suggestCharts:', error);\n",
              "      }\n",
              "      quickchartButtonEl.classList.remove('colab-df-spinner');\n",
              "      quickchartButtonEl.classList.add('colab-df-quickchart-complete');\n",
              "    }\n",
              "    (() => {\n",
              "      let quickchartButtonEl =\n",
              "        document.querySelector('#df-33118397-6063-4c2c-b692-0c25b7ce2642 button');\n",
              "      quickchartButtonEl.style.display =\n",
              "        google.colab.kernel.accessAllowed ? 'block' : 'none';\n",
              "    })();\n",
              "  </script>\n",
              "</div>\n",
              "    </div>\n",
              "  </div>\n"
            ],
            "application/vnd.google.colaboratory.intrinsic+json": {
              "type": "dataframe"
            }
          },
          "metadata": {},
          "execution_count": 13
        }
      ]
    },
    {
      "cell_type": "code",
      "execution_count": null,
      "metadata": {
        "id": "cTD87JaFTAPS"
      },
      "outputs": [],
      "source": [
        "## read data using DataFrame API\n",
        "df = dd.read_csv('Parking_Violations_Issued_-_Fiscal_Year_2017.csv')\n",
        "df"
      ]
    },
    {
      "cell_type": "markdown",
      "metadata": {
        "id": "MVHVB2vxTbjW"
      },
      "source": [
        "Обратите внимание, что\n",
        "\n",
        "- `metadata` отображаются в кадре вместо образца данных\n",
        "синтаксис очень похож на API Pandas.\n",
        "\n",
        "- `# partitions` — это количество разбиений, используемых для разделения основного набора данных. Оптимальное количество определяется планировщиком, который разделяет `DataFrame Pandas` на более мелкие фрагменты. В этом случае размер каждого раздела составляет ~64 МБ (т. е. размер набора данных/npartitions = 2 ГБ/33). Если у нас есть один рабочий процесс, Dask будет переключаться на каждый раздел по одному.\n",
        "\n",
        "- `data types` сообщаются под каждым именем столбца (аналогично описанию метода в Pandas, однако выполняется путем случайной выборки, поскольку данные разбросаны по нескольким физическим машинам). Хорошей практикой является явное определение типов данных вместо того, чтобы полагаться на вывод Dask (в идеале хранить в двоичном формате).\n",
        "\n",
        "- `Dask Name` сообщает имя группы обеспечения доступности баз данных (т.е. с задержкой).\n",
        "\n",
        "- `# tasks` — это количество узлов в группе, которые обеспечивают доступность к данным. Вы можете представить задачу как функцию `Python`, и в этом случае каждая задача выполняет три задачи:\n",
        "\n",
        "1) чтение необработанных данных,\n",
        "\n",
        "2) разделение данных на соответствующие блоки,\n",
        "\n",
        "3) инициализация объекта `DataFrame`."
      ]
    },
    {
      "cell_type": "markdown",
      "metadata": {
        "id": "hXxWxOHVWmMp"
      },
      "source": [
        "`2.1.3.` **Проверить качество данных (например, отсутствующие значения и выбросы).**"
      ]
    },
    {
      "cell_type": "code",
      "execution_count": 14,
      "metadata": {
        "colab": {
          "base_uri": "https://localhost:8080/"
        },
        "id": "Rx_EQ0fKUT2-",
        "outputId": "ab08da0a-8dbb-4139-d3ed-8ab14b5f4b5d"
      },
      "outputs": [
        {
          "output_type": "execute_result",
          "data": {
            "text/plain": [
              "Dask Series Structure:\n",
              "npartitions=1\n",
              "Date First Observed    int64\n",
              "Violation Time           ...\n",
              "Dask Name: sum, 5 expressions\n",
              "Expr=(~ NotNull(frame=ArrowStringConversion(frame=FromMapProjectable(4d4d1e8)))).sum()"
            ]
          },
          "metadata": {},
          "execution_count": 14
        }
      ],
      "source": [
        "# count missing values\n",
        "missing_values = df.isnull().sum()\n",
        "missing_values"
      ]
    },
    {
      "cell_type": "code",
      "source": [
        "result = df.compute()\n",
        "print(result)"
      ],
      "metadata": {
        "id": "39ykxGUbqcaP",
        "colab": {
          "base_uri": "https://localhost:8080/"
        },
        "outputId": "cac4aad6-0454-461f-de8f-f768eae9e24f"
      },
      "execution_count": 15,
      "outputs": [
        {
          "output_type": "stream",
          "name": "stderr",
          "text": [
            "/usr/local/lib/python3.11/dist-packages/dask/dataframe/io/csv.py:199: DtypeWarning: Columns (18,38) have mixed types. Specify dtype option on import or set low_memory=False.\n",
            "  df = reader(bio, **kwargs)\n"
          ]
        },
        {
          "output_type": "stream",
          "name": "stdout",
          "text": [
            "        Summons Number Plate ID Registration State Plate Type  Issue Date  \\\n",
            "0           5092469481  GZH7067                 NY        PAS  07/10/2016   \n",
            "1           5092451658  GZH7067                 NY        PAS  07/08/2016   \n",
            "2           4006265037  FZX9232                 NY        PAS  08/23/2016   \n",
            "3           8478629828  66623ME                 NY        COM  06/14/2017   \n",
            "4           7868300310  37033JV                 NY        COM  11/21/2016   \n",
            "...                ...      ...                ...        ...         ...   \n",
            "352313      1415891400  HGK6453                 NJ        PAS  11/02/2068   \n",
            "352314      1384716543  GRA6240                 NY        PAS  07/12/2069   \n",
            "352315      1413536554   RC8S28                 PA        PAS  08/14/2069   \n",
            "352316      1415514203  HGU9544                 NY        PAS  11/15/2069   \n",
            "352317      1415995370  GPP1608                 NY        PAS  11/19/2069   \n",
            "\n",
            "        Violation Code Vehicle Body Type Vehicle Make Issuing Agency  \\\n",
            "0                    7              SUBN        TOYOT              V   \n",
            "1                    7              SUBN        TOYOT              V   \n",
            "2                    5              SUBN         FORD              V   \n",
            "3                   47              REFG        MITSU              T   \n",
            "4                   69              DELV        INTER              T   \n",
            "...                ...               ...          ...            ...   \n",
            "352313              21               SDN        HONDA              S   \n",
            "352314              20              SUBN        TOYOT              X   \n",
            "352315              46              SUBN         <NA>              P   \n",
            "352316              40              SUBN         JEEP              P   \n",
            "352317              21               SDN        TOYOT              S   \n",
            "\n",
            "        Street Code1  ...  Vehicle Color  Unregistered Vehicle?  Vehicle Year  \\\n",
            "0                  0  ...             GY                    NaN          2001   \n",
            "1                  0  ...             GY                    NaN          2001   \n",
            "2                  0  ...             BK                    NaN          2004   \n",
            "3              10610  ...             WH                    NaN          2007   \n",
            "4              10510  ...          WHITE                    NaN          2007   \n",
            "...              ...  ...            ...                    ...           ...   \n",
            "352313         17380  ...          BLACK                    0.0             0   \n",
            "352314         93830  ...           GRAY                    0.0          2007   \n",
            "352315         37980  ...            RED                    0.0             0   \n",
            "352316             0  ...          BROWN                    0.0          2011   \n",
            "352317         38080  ...           GRAY                    0.0          2011   \n",
            "\n",
            "        Meter Number  Feet From Curb  Violation Post Code  \\\n",
            "0               <NA>               0                 <NA>   \n",
            "1               <NA>               0                 <NA>   \n",
            "2               <NA>               0                 <NA>   \n",
            "3               <NA>               0                   04   \n",
            "4               <NA>               0                 31 6   \n",
            "...              ...             ...                  ...   \n",
            "352313             -               0                 <NA>   \n",
            "352314             -               0                 <NA>   \n",
            "352315             -               0                 <NA>   \n",
            "352316             -               0                 <NA>   \n",
            "352317             -               0                 <NA>   \n",
            "\n",
            "                Violation Description No Standing or Stopping Violation  \\\n",
            "0        FAILURE TO STOP AT RED LIGHT                               NaN   \n",
            "1        FAILURE TO STOP AT RED LIGHT                               NaN   \n",
            "2                  BUS LANE VIOLATION                               NaN   \n",
            "3               47-Double PKG-Midtown                               NaN   \n",
            "4       69-Failure to Disp Muni Recpt                               NaN   \n",
            "...                               ...                               ...   \n",
            "352313                           <NA>                               NaN   \n",
            "352314                           <NA>                               NaN   \n",
            "352315                           <NA>                               NaN   \n",
            "352316                           <NA>                               NaN   \n",
            "352317                           <NA>                               NaN   \n",
            "\n",
            "       Hydrant Violation Double Parking Violation  \n",
            "0                    NaN                      NaN  \n",
            "1                    NaN                      NaN  \n",
            "2                    NaN                      NaN  \n",
            "3                    NaN                      NaN  \n",
            "4                    NaN                      NaN  \n",
            "...                  ...                      ...  \n",
            "352313               NaN                      NaN  \n",
            "352314               NaN                      NaN  \n",
            "352315               NaN                      NaN  \n",
            "352316               NaN                      NaN  \n",
            "352317               NaN                      NaN  \n",
            "\n",
            "[10803028 rows x 43 columns]\n"
          ]
        }
      ]
    },
    {
      "cell_type": "markdown",
      "metadata": {
        "id": "gPAtFBJuW1fp"
      },
      "source": [
        "Обратите внимание на то, что:\n",
        "\n",
        "Созданный объект `dask` представляет собой серию, содержащую метаданные, а синтаксис очень похож на `API Pandas`, обработка еще не завершена, вместо этого `Dask` подготовил `DAG`, сохраненный в переменной пропущенных значений (преимущество быстрого построения графика без необходимости ждать вычислений)\n",
        "\n",
        "Количество задач увеличилось, поскольку были добавлены `2` задачи (т. е. проверка недостающих значений и суммы) для каждого из `32` разделов, а также окончательное добавление для агрегирования результатов по всем разделам, в общей сложности их - `4`."
      ]
    },
    {
      "cell_type": "code",
      "execution_count": 16,
      "metadata": {
        "colab": {
          "base_uri": "https://localhost:8080/"
        },
        "id": "O-xMhqs7YHS8",
        "outputId": "e10e2b3a-0df6-4c33-ebe9-ce608345496e"
      },
      "outputs": [
        {
          "output_type": "execute_result",
          "data": {
            "text/plain": [
              "Dask Series Structure:\n",
              "npartitions=1\n",
              "Date First Observed    float64\n",
              "Violation Time             ...\n",
              "Dask Name: mul, 9 expressions\n",
              "Expr=(~ NotNull(frame=ArrowStringConversion(frame=FromMapProjectable(4d4d1e8)))).sum() / Index(frame=ArrowStringConversion(frame=FromMapProjectable(4d4d1e8))).size() * 100"
            ]
          },
          "metadata": {},
          "execution_count": 16
        }
      ],
      "source": [
        "# calculate percent missing values\n",
        "mysize = df.index.size\n",
        "missing_count = ((missing_values / mysize) * 100)\n",
        "missing_count"
      ]
    },
    {
      "cell_type": "markdown",
      "metadata": {
        "id": "Wytr0Ab_YdSI"
      },
      "source": [
        "Обратите внимание на то, что:\n",
        "\n",
        "- созданный объект `dask` представляет собой серию, и вычисление еще не завершено.\n",
        "\n",
        "- `df.index.size` — это объект `dask` `dask.dataframe.core.Scalar`. Вы не можете получить доступ к его значению/длине напрямую, как если бы вы это делали со списком (например, `len()`). Это противоречило бы всей идее `dask` (т.е. прочитать весь набор данных).\n",
        "\n",
        "- `# tasks` количество задач увеличилось, так как были добавлены `2` задачи (т.е. деление и умножение).\n",
        "\n",
        "-  `data type` изменен с `int64` на `float64`. Dask автоматически преобразовал его, если тип данных на выходе  не совпадает с входным после разделения."
      ]
    },
    {
      "cell_type": "code",
      "execution_count": 17,
      "metadata": {
        "colab": {
          "base_uri": "https://localhost:8080/",
          "height": 1000
        },
        "id": "qjsywWWlXdU-",
        "outputId": "b48141f1-057b-4668-e94a-8776e9ba0e98"
      },
      "outputs": [
        {
          "output_type": "stream",
          "name": "stdout",
          "text": [
            "[                                        ] | 0% Completed | 5.84 s"
          ]
        },
        {
          "output_type": "stream",
          "name": "stderr",
          "text": [
            "/usr/local/lib/python3.11/dist-packages/dask/dataframe/io/csv.py:199: DtypeWarning: Columns (18,38) have mixed types. Specify dtype option on import or set low_memory=False.\n",
            "  df = reader(bio, **kwargs)\n"
          ]
        },
        {
          "output_type": "stream",
          "name": "stdout",
          "text": [
            "[########################################] | 100% Completed | 140.00 s\n"
          ]
        },
        {
          "output_type": "execute_result",
          "data": {
            "text/plain": [
              "Summons Number                         0.000000\n",
              "Plate ID                               0.006739\n",
              "Registration State                     0.000000\n",
              "Plate Type                             0.000000\n",
              "Issue Date                             0.000000\n",
              "Violation Code                         0.000000\n",
              "Vehicle Body Type                      0.395361\n",
              "Vehicle Make                           0.676199\n",
              "Issuing Agency                         0.000000\n",
              "Street Code1                           0.000000\n",
              "Street Code2                           0.000000\n",
              "Street Code3                           0.000000\n",
              "Vehicle Expiration Date                0.000000\n",
              "Violation Location                    19.183510\n",
              "Violation Precinct                     0.000000\n",
              "Issuer Precinct                        0.000000\n",
              "Issuer Code                            0.000000\n",
              "Issuer Command                        19.093212\n",
              "Issuer Squad                          19.101506\n",
              "Violation Time                         0.000583\n",
              "Time First Observed                   92.217488\n",
              "Violation County                       0.366073\n",
              "Violation In Front Of Or Opposite     20.005826\n",
              "House Number                          21.184968\n",
              "Street Name                            0.037110\n",
              "Intersecting Street                   68.827675\n",
              "Date First Observed                    0.000000\n",
              "Law Section                            0.000000\n",
              "Sub Division                           0.007155\n",
              "Violation Legal Code                  80.906214\n",
              "Days Parking In Effect                25.107923\n",
              "From Hours In Effect                  50.457575\n",
              "To Hours In Effect                    50.457548\n",
              "Vehicle Color                          1.410179\n",
              "Unregistered Vehicle?                 89.562223\n",
              "Vehicle Year                           0.000000\n",
              "Meter Number                          83.472476\n",
              "Feet From Curb                         0.000000\n",
              "Violation Post Code                   29.530489\n",
              "Violation Description                 10.436611\n",
              "No Standing or Stopping Violation    100.000000\n",
              "Hydrant Violation                    100.000000\n",
              "Double Parking Violation             100.000000\n",
              "dtype: float64"
            ],
            "text/html": [
              "<div>\n",
              "<style scoped>\n",
              "    .dataframe tbody tr th:only-of-type {\n",
              "        vertical-align: middle;\n",
              "    }\n",
              "\n",
              "    .dataframe tbody tr th {\n",
              "        vertical-align: top;\n",
              "    }\n",
              "\n",
              "    .dataframe thead th {\n",
              "        text-align: right;\n",
              "    }\n",
              "</style>\n",
              "<table border=\"1\" class=\"dataframe\">\n",
              "  <thead>\n",
              "    <tr style=\"text-align: right;\">\n",
              "      <th></th>\n",
              "      <th>0</th>\n",
              "    </tr>\n",
              "  </thead>\n",
              "  <tbody>\n",
              "    <tr>\n",
              "      <th>Summons Number</th>\n",
              "      <td>0.000000</td>\n",
              "    </tr>\n",
              "    <tr>\n",
              "      <th>Plate ID</th>\n",
              "      <td>0.006739</td>\n",
              "    </tr>\n",
              "    <tr>\n",
              "      <th>Registration State</th>\n",
              "      <td>0.000000</td>\n",
              "    </tr>\n",
              "    <tr>\n",
              "      <th>Plate Type</th>\n",
              "      <td>0.000000</td>\n",
              "    </tr>\n",
              "    <tr>\n",
              "      <th>Issue Date</th>\n",
              "      <td>0.000000</td>\n",
              "    </tr>\n",
              "    <tr>\n",
              "      <th>Violation Code</th>\n",
              "      <td>0.000000</td>\n",
              "    </tr>\n",
              "    <tr>\n",
              "      <th>Vehicle Body Type</th>\n",
              "      <td>0.395361</td>\n",
              "    </tr>\n",
              "    <tr>\n",
              "      <th>Vehicle Make</th>\n",
              "      <td>0.676199</td>\n",
              "    </tr>\n",
              "    <tr>\n",
              "      <th>Issuing Agency</th>\n",
              "      <td>0.000000</td>\n",
              "    </tr>\n",
              "    <tr>\n",
              "      <th>Street Code1</th>\n",
              "      <td>0.000000</td>\n",
              "    </tr>\n",
              "    <tr>\n",
              "      <th>Street Code2</th>\n",
              "      <td>0.000000</td>\n",
              "    </tr>\n",
              "    <tr>\n",
              "      <th>Street Code3</th>\n",
              "      <td>0.000000</td>\n",
              "    </tr>\n",
              "    <tr>\n",
              "      <th>Vehicle Expiration Date</th>\n",
              "      <td>0.000000</td>\n",
              "    </tr>\n",
              "    <tr>\n",
              "      <th>Violation Location</th>\n",
              "      <td>19.183510</td>\n",
              "    </tr>\n",
              "    <tr>\n",
              "      <th>Violation Precinct</th>\n",
              "      <td>0.000000</td>\n",
              "    </tr>\n",
              "    <tr>\n",
              "      <th>Issuer Precinct</th>\n",
              "      <td>0.000000</td>\n",
              "    </tr>\n",
              "    <tr>\n",
              "      <th>Issuer Code</th>\n",
              "      <td>0.000000</td>\n",
              "    </tr>\n",
              "    <tr>\n",
              "      <th>Issuer Command</th>\n",
              "      <td>19.093212</td>\n",
              "    </tr>\n",
              "    <tr>\n",
              "      <th>Issuer Squad</th>\n",
              "      <td>19.101506</td>\n",
              "    </tr>\n",
              "    <tr>\n",
              "      <th>Violation Time</th>\n",
              "      <td>0.000583</td>\n",
              "    </tr>\n",
              "    <tr>\n",
              "      <th>Time First Observed</th>\n",
              "      <td>92.217488</td>\n",
              "    </tr>\n",
              "    <tr>\n",
              "      <th>Violation County</th>\n",
              "      <td>0.366073</td>\n",
              "    </tr>\n",
              "    <tr>\n",
              "      <th>Violation In Front Of Or Opposite</th>\n",
              "      <td>20.005826</td>\n",
              "    </tr>\n",
              "    <tr>\n",
              "      <th>House Number</th>\n",
              "      <td>21.184968</td>\n",
              "    </tr>\n",
              "    <tr>\n",
              "      <th>Street Name</th>\n",
              "      <td>0.037110</td>\n",
              "    </tr>\n",
              "    <tr>\n",
              "      <th>Intersecting Street</th>\n",
              "      <td>68.827675</td>\n",
              "    </tr>\n",
              "    <tr>\n",
              "      <th>Date First Observed</th>\n",
              "      <td>0.000000</td>\n",
              "    </tr>\n",
              "    <tr>\n",
              "      <th>Law Section</th>\n",
              "      <td>0.000000</td>\n",
              "    </tr>\n",
              "    <tr>\n",
              "      <th>Sub Division</th>\n",
              "      <td>0.007155</td>\n",
              "    </tr>\n",
              "    <tr>\n",
              "      <th>Violation Legal Code</th>\n",
              "      <td>80.906214</td>\n",
              "    </tr>\n",
              "    <tr>\n",
              "      <th>Days Parking In Effect</th>\n",
              "      <td>25.107923</td>\n",
              "    </tr>\n",
              "    <tr>\n",
              "      <th>From Hours In Effect</th>\n",
              "      <td>50.457575</td>\n",
              "    </tr>\n",
              "    <tr>\n",
              "      <th>To Hours In Effect</th>\n",
              "      <td>50.457548</td>\n",
              "    </tr>\n",
              "    <tr>\n",
              "      <th>Vehicle Color</th>\n",
              "      <td>1.410179</td>\n",
              "    </tr>\n",
              "    <tr>\n",
              "      <th>Unregistered Vehicle?</th>\n",
              "      <td>89.562223</td>\n",
              "    </tr>\n",
              "    <tr>\n",
              "      <th>Vehicle Year</th>\n",
              "      <td>0.000000</td>\n",
              "    </tr>\n",
              "    <tr>\n",
              "      <th>Meter Number</th>\n",
              "      <td>83.472476</td>\n",
              "    </tr>\n",
              "    <tr>\n",
              "      <th>Feet From Curb</th>\n",
              "      <td>0.000000</td>\n",
              "    </tr>\n",
              "    <tr>\n",
              "      <th>Violation Post Code</th>\n",
              "      <td>29.530489</td>\n",
              "    </tr>\n",
              "    <tr>\n",
              "      <th>Violation Description</th>\n",
              "      <td>10.436611</td>\n",
              "    </tr>\n",
              "    <tr>\n",
              "      <th>No Standing or Stopping Violation</th>\n",
              "      <td>100.000000</td>\n",
              "    </tr>\n",
              "    <tr>\n",
              "      <th>Hydrant Violation</th>\n",
              "      <td>100.000000</td>\n",
              "    </tr>\n",
              "    <tr>\n",
              "      <th>Double Parking Violation</th>\n",
              "      <td>100.000000</td>\n",
              "    </tr>\n",
              "  </tbody>\n",
              "</table>\n",
              "</div><br><label><b>dtype:</b> float64</label>"
            ]
          },
          "metadata": {},
          "execution_count": 17
        }
      ],
      "source": [
        "# запуск вычисления, используя метод подсчета\n",
        "with ProgressBar():\n",
        "  missing_count_percent = missing_count.compute()\n",
        "missing_count_percent"
      ]
    },
    {
      "cell_type": "markdown",
      "metadata": {
        "id": "fXZlDoo-cf4r"
      },
      "source": [
        "Обратите внимание на то, что:\n",
        "\n",
        "- метод `.compute()` необходим для запуска действий, встроенных в каждый узел группы обеспечения доступности баз данных.\n",
        "\n",
        "- Результаты метода вычислений сохраняются в серии `Pandas`.\n",
        "\n",
        "- `ProgressBar()` — это оболочка для отслеживания запущенных задач. Он показывает завершенную работу.\n",
        "\n",
        "Видим, что не все столбцы являются неполными, и нам следует их удалить."
      ]
    },
    {
      "cell_type": "markdown",
      "metadata": {
        "id": "VxRy4FPQdQPo"
      },
      "source": [
        "`2.1.4.` **Удалить столбцы (пропуски в значениях, бесполезные столбцы для анализа).**"
      ]
    },
    {
      "cell_type": "code",
      "source": [
        "# Получаем список столбцов, которые нужно удалить\n",
        "columns_to_drop = missing_count_percent[missing_count_percent > 60].index\n",
        "\n",
        "# Проверяем, что columns_to_drop не пуст\n",
        "if not columns_to_drop.empty:\n",
        "    print(\"Столбцы для удаления:\", columns_to_drop)\n",
        "\n",
        "    # Удаляем столбцы\n",
        "    with ProgressBar():\n",
        "        df_dropped = df.drop(columns=columns_to_drop).compute()\n",
        "else:\n",
        "    print(\"Нет столбцов для удаления.\")\n",
        "    df_dropped = df.compute()"
      ],
      "metadata": {
        "colab": {
          "base_uri": "https://localhost:8080/"
        },
        "id": "SO9SlUMEM_HO",
        "outputId": "ef5453bc-fa39-4214-b4eb-ff5efcbf7239"
      },
      "execution_count": 19,
      "outputs": [
        {
          "output_type": "stream",
          "name": "stdout",
          "text": [
            "Столбцы для удаления: Index(['Time First Observed', 'Intersecting Street', 'Violation Legal Code',\n",
            "       'Unregistered Vehicle?', 'Meter Number',\n",
            "       'No Standing or Stopping Violation', 'Hydrant Violation',\n",
            "       'Double Parking Violation'],\n",
            "      dtype='object')\n",
            "[#######                                 ] | 18% Completed | 29.94 s"
          ]
        },
        {
          "output_type": "stream",
          "name": "stderr",
          "text": [
            "/usr/local/lib/python3.11/dist-packages/dask/dataframe/io/csv.py:199: DtypeWarning: Columns (18,38) have mixed types. Specify dtype option on import or set low_memory=False.\n",
            "  df = reader(bio, **kwargs)\n"
          ]
        },
        {
          "output_type": "stream",
          "name": "stdout",
          "text": [
            "[########################################] | 100% Completed | 132.93 s\n"
          ]
        }
      ]
    },
    {
      "cell_type": "markdown",
      "metadata": {
        "id": "THkb2QD0d2S5"
      },
      "source": [
        "Обратите внимание на то, что:\n",
        "\n",
        "- использовать `Pandas Series` для удаления столбцов в `Dask DataFrame`, поскольку каждый раздел является `Pandas DataFrame`.\n",
        "\n",
        "- В случае, если серия доступна для всех потоков, в кластере она будет сериализована и широковещательно передана всем рабочим узлам.\n",
        "\n",
        "- Метод `.persist()` позволяет хранить в памяти промежуточные вычисления, чтобы их можно было использовать повторно."
      ]
    },
    {
      "cell_type": "markdown",
      "metadata": {
        "id": "D9fnbeg6fECg"
      },
      "source": [
        "# Практическая работа 2.2. Визуализация ориентированных ациклических графов (DAG)\n",
        "\n",
        "- `DASK` использует библиотеку `Graviz` для создания визуального представления групп `DAG`, созданных планировщиком.\n",
        "\n",
        "- и спользуйте метод `.visualize()` для проверки групп `DAG DataFrames`, `Series`, `Bag` и массивов.\n",
        "\n",
        "Для упрощения будем использовать объект `Dask Delayed` вместо `DataFrames`, поскольку они становятся довольно большими и их трудно визуализировать.\n",
        "\n",
        "- `Delayed` — это конструктор, который позволяет обертывать функции и создавать объекты `Dask Delayed`, эквивалентные узлу в `DAG`. Объединяя захваченные объекты, создаем группу доступа к данным.\n",
        "\n",
        "Ниже приведены два примера: в первом  `DAG` только с одним узлом и зависимостями, а во втором  - `DAG` с несколькими узлами и зависимостями.\n",
        "\n",
        "**Задание.**\n",
        "\n",
        "`2.2.1.` Визуализировать `DAG` с одним узлом и зависимостями.\n",
        "\n",
        "`2.2.1.` Визуализировать `DAG` с более чем одним узлом и зависимостями.\n",
        "\n"
      ]
    },
    {
      "cell_type": "markdown",
      "metadata": {
        "id": "eDXjg75dgkTk"
      },
      "source": [
        "`2.1.1.` **Визуализировать `DAG` с одним узлом и зависимостями.**"
      ]
    },
    {
      "cell_type": "code",
      "execution_count": 32,
      "metadata": {
        "id": "N0ObNZxJe8q4"
      },
      "outputs": [],
      "source": [
        "# import library\n",
        "import dask.delayed as delayed"
      ]
    },
    {
      "cell_type": "code",
      "execution_count": 34,
      "metadata": {
        "id": "3kczecMqgt4J",
        "colab": {
          "base_uri": "https://localhost:8080/",
          "height": 469
        },
        "outputId": "e08a7fac-8849-476d-df13-d0a56f0ad173"
      },
      "outputs": [
        {
          "output_type": "execute_result",
          "data": {
            "image/png": "[encoded data removed]",
            "text/plain": [
              "<IPython.core.display.Image object>"
            ]
          },
          "metadata": {},
          "execution_count": 34
        }
      ],
      "source": [
        "def increment(i):\n",
        "    return i + 1\n",
        "\n",
        "def add(x, y):\n",
        "    return x + y\n",
        "\n",
        "# функции переноса внутри отложенного объекта и цепочки\n",
        "x = delayed(increment)(1)\n",
        "y = delayed(increment)(2)\n",
        "z = delayed(add)(x, y)\n",
        "\n",
        "# visualize the DAG\n",
        "z.visualize()"
      ]
    },
    {
      "cell_type": "code",
      "execution_count": 35,
      "metadata": {
        "id": "Q6TfyGFUg_UB",
        "colab": {
          "base_uri": "https://localhost:8080/"
        },
        "outputId": "2ab11da7-5c84-4dc4-ccfd-49f2c7fe3122"
      },
      "outputs": [
        {
          "output_type": "execute_result",
          "data": {
            "text/plain": [
              "5"
            ]
          },
          "metadata": {},
          "execution_count": 35
        }
      ],
      "source": [
        "# show the result\n",
        "z.compute()"
      ]
    },
    {
      "cell_type": "code",
      "source": [
        "# Создаем отложенные вычисления для каждого столбца\n",
        "@delayed\n",
        "def create_column(column_name):\n",
        "    return f\"Column: {column_name}\"\n",
        "\n",
        "# Список столбцов таблицы\n",
        "columns = [\n",
        "    \"Номер повестки\", \"Государство регистрации\", \"Тип номерного знака\", \"Дата выдачи\",\n",
        " \"Код нарушения\", \"Марка транспортного средства\", \"Цвет транспортного средства\", \"Почтовый индекс нарушения\", \"Описание нарушения\"\n",
        "]\n",
        "\n",
        "# Создаем отложенные объекты для каждого столбца\n",
        "delayed_columns = [create_column(columns) for column in columns]\n",
        "\n",
        "# Создаем отложенный объект для таблицы, которая зависит от всех столбцов\n",
        "@delayed\n",
        "def create_table(columns):\n",
        "    return \"Штраф: \" + \", \".join(columns)\n",
        "\n",
        "# Таблица зависит от всех столбцов\n",
        "delayed_penalty = create_table(delayed_columns)\n",
        "\n",
        "# Визуализация DAG\n",
        "delayed_penalty.visualize()"
      ],
      "metadata": {
        "colab": {
          "base_uri": "https://localhost:8080/",
          "height": 609
        },
        "id": "yD0e7rbEY78j",
        "outputId": "4ea875bd-6fa5-46ec-902d-73060aa398cf"
      },
      "execution_count": 29,
      "outputs": [
        {
          "output_type": "execute_result",
          "data": {
            "image/png": "[encoded data removed]",
            "text/plain": [
              "<IPython.core.display.Image object>"
            ]
          },
          "metadata": {},
          "execution_count": 29
        }
      ]
    },
    {
      "cell_type": "code",
      "source": [
        "# show the result\n",
        "delayed_penalty.compute()"
      ],
      "metadata": {
        "colab": {
          "base_uri": "https://localhost:8080/",
          "height": 35
        },
        "id": "Wkzyka5Jl15-",
        "outputId": "4d81b039-9297-4853-f611-57e028f954e3"
      },
      "execution_count": 37,
      "outputs": [
        {
          "output_type": "execute_result",
          "data": {
            "text/plain": [
              "'Штраф'"
            ],
            "application/vnd.google.colaboratory.intrinsic+json": {
              "type": "string"
            }
          },
          "metadata": {},
          "execution_count": 37
        }
      ]
    },
    {
      "cell_type": "markdown",
      "metadata": {
        "id": "ybh2DgYEhDNZ"
      },
      "source": [
        "Обратите внимание на то, что:\n",
        "\n",
        "- Чтобы построить узел, в функцию передали захваченный объект, а затем передали аргументы этой функции. Можно использовать декораторы.\n",
        "\n",
        "- Круги указывают на функцию и вычисления, а квадраты — промежуточный или конечный результат.\n",
        "\n",
        "- Входящие стрелки представляют зависимости. Функция `increment` не имеет никаких зависимостей, а функция `add` — две. Таким образом, функция `add`  должна ждать, пока не будут вычислены объекты `x` и `y`.\n",
        "\n",
        "- Функции без зависимостей могут вычисляться независимо, и каждой из них можно назначить `workera`.\n",
        "\n",
        "- Используйте метод `.visualize()` на последнем узле с зависимостями.\n",
        "\n",
        "- `Dask` не расчитывает `DAG`. Используйте метод `.compute()` на последнем узле, чтобы увидеть результат."
      ]
    },
    {
      "cell_type": "markdown",
      "metadata": {
        "id": "IqhURXTRjH3b"
      },
      "source": [
        "`2.2.2.` **Визуализировать `DAG` с более чем одним узлом и зависимостями.**\n",
        "\n",
        "построить более сложную группу `DAG` с двумя уровнями:\n",
        "\n",
        "- `Layer1` создается путем циклического перебора списка данных  в ​`​dask` . Этот слой объединяет ранее созданное приращение функции со значениями в списке, а затем использует встроенное суммирование функции для объединения результатов;\n",
        "\n",
        "- `Layer2` построен циклически для каждого объекта, созданного в `Layer1`."
      ]
    },
    {
      "cell_type": "code",
      "execution_count": 22,
      "metadata": {
        "id": "dH49Zt7mjHd5",
        "colab": {
          "base_uri": "https://localhost:8080/",
          "height": 476
        },
        "outputId": "4d67171e-3346-4566-e62f-2b5f726c4c43"
      },
      "outputs": [
        {
          "output_type": "execute_result",
          "data": {
            "image/png": "[encoded data removed]",
            "text/plain": [
              "<IPython.core.display.Image object>"
            ]
          },
          "metadata": {},
          "execution_count": 22
        }
      ],
      "source": [
        "data = [1, 2, 3, 4, 5]\n",
        "\n",
        "# compile first layer and visualize\n",
        "layer1 = [delayed(increment)(i) for i in data]\n",
        "total1 = delayed(sum)(layer1)\n",
        "total1.visualize()"
      ]
    },
    {
      "cell_type": "code",
      "execution_count": 23,
      "metadata": {
        "id": "CrzrC0yAilGJ",
        "colab": {
          "base_uri": "https://localhost:8080/",
          "height": 718
        },
        "outputId": "454e5b09-1bc3-4d72-ecf2-b21a2f04d0fa"
      },
      "outputs": [
        {
          "output_type": "execute_result",
          "data": {
            "image/png": "[encoded data removed]",
            "text/plain": [
              "<IPython.core.display.Image object>"
            ]
          },
          "metadata": {},
          "execution_count": 23
        }
      ],
      "source": [
        "def double(x):\n",
        "    return x * 2\n",
        "\n",
        "# compile second layer and visualize\n",
        "layer2 = [delayed(double)(j) for j in layer1]\n",
        "total2 = delayed(sum)(layer2)#.persist()\n",
        "total2.visualize()"
      ]
    },
    {
      "cell_type": "code",
      "execution_count": 24,
      "metadata": {
        "id": "WvKa-Xrrj_Jm",
        "colab": {
          "base_uri": "https://localhost:8080/"
        },
        "outputId": "7d4cc844-c705-4136-a698-c494656170e2"
      },
      "outputs": [
        {
          "output_type": "execute_result",
          "data": {
            "text/plain": [
              "40"
            ]
          },
          "metadata": {},
          "execution_count": 24
        }
      ],
      "source": [
        "z = total2.compute()\n",
        "z"
      ]
    },
    {
      "cell_type": "code",
      "source": [
        "# Импортируем необходимые библиотеки\n",
        "from dask import delayed\n",
        "import dask\n",
        "\n",
        "# Список столбцов таблицы\n",
        "columns = [\n",
        "    \"Номер повестки\", \"Государство регистрации\", \"Тип номерного знака\", \"Дата выдачи\",\n",
        "    \"Код нарушения\", \"Марка транспортного средства\", \"Цвет транспортного средства\",\n",
        "    \"Почтовый индекс нарушения\", \"Описание нарушения\"\n",
        "]\n",
        "\n",
        "# Создаем отложенные объекты для каждого столбца\n",
        "delayed_columns = {column: delayed(column) for column in columns}\n",
        "\n",
        "# Создаем узлы для обработки данных\n",
        "@delayed\n",
        "def process_column_1(data):\n",
        "    return f\"Обработано: {data}\"\n",
        "\n",
        "@delayed\n",
        "def process_column_2(data):\n",
        "    return f\"Обработано: {data}\"\n",
        "\n",
        "@delayed\n",
        "def combine_results(result1, result2):\n",
        "    return f\"Объединенный результат: {result1}, {result2}\"\n",
        "\n",
        "# Обрабатываем два столбца\n",
        "processed_1 = process_column_1(delayed_columns[\"Номер повестки\"])\n",
        "processed_2 = process_column_2(delayed_columns[\"Государство регистрации\"])\n",
        "\n",
        "# Объединяем результаты обработки\n",
        "combined_result = combine_results(processed_1, processed_2)\n",
        "\n",
        "# Визуализация DAG\n",
        "combined_result.visualize()\n"
      ],
      "metadata": {
        "colab": {
          "base_uri": "https://localhost:8080/",
          "height": 792
        },
        "id": "ble8WcD1nAfX",
        "outputId": "af649e86-37ac-49e5-9ded-9105181e5265"
      },
      "execution_count": 38,
      "outputs": [
        {
          "output_type": "execute_result",
          "data": {
            "image/png": "[encoded data removed]",
            "text/plain": [
              "<IPython.core.display.Image object>"
            ]
          },
          "metadata": {},
          "execution_count": 38
        }
      ]
    },
    {
      "cell_type": "code",
      "source": [
        "combined_result.compute()"
      ],
      "metadata": {
        "colab": {
          "base_uri": "https://localhost:8080/",
          "height": 35
        },
        "id": "CJUcv9NPotIV",
        "outputId": "97c090c0-f6c3-4881-e290-f2de618b35c0"
      },
      "execution_count": 39,
      "outputs": [
        {
          "output_type": "execute_result",
          "data": {
            "text/plain": [
              "'Объединенный результат: Обработано: Номер повестки, Обработано: Государство регистрации'"
            ],
            "application/vnd.google.colaboratory.intrinsic+json": {
              "type": "string"
            }
          },
          "metadata": {},
          "execution_count": 39
        }
      ]
    },
    {
      "cell_type": "markdown",
      "metadata": {
        "id": "TRxGiRSNkGHl"
      },
      "source": [
        "Обратите внимание на то, что:\n",
        "\n",
        "- построение через использование функции,\n",
        "\n",
        "- используем `.persist()`, и результат будет представлен на графике в виде прямоугольника."
      ]
    },
    {
      "cell_type": "code",
      "execution_count": 25,
      "metadata": {
        "id": "EiWjhzMgkeNK",
        "colab": {
          "base_uri": "https://localhost:8080/",
          "height": 656
        },
        "outputId": "b1f13502-9892-4e43-b076-6e6168ac4404"
      },
      "outputs": [
        {
          "output_type": "execute_result",
          "data": {
            "image/svg+xml": "<?xml version=\"1.0\" encoding=\"UTF-8\" standalone=\"no\"?>\n<!DOCTYPE svg PUBLIC \"-//W3C//DTD SVG 1.1//EN\"\n \"http://www.w3.org/Graphics/SVG/1.1/DTD/svg11.dtd\">\n<!-- Generated by graphviz version 2.43.0 (0)\n -->\n<!-- Title: %3 Pages: 1 -->\n<svg width=\"614pt\" height=\"476pt\"\n viewBox=\"0.00 0.00 613.50 476.00\" xmlns=\"http://www.w3.org/2000/svg\" xmlns:xlink=\"http://www.w3.org/1999/xlink\">\n<g id=\"graph0\" class=\"graph\" transform=\"scale(1 1) rotate(0) translate(4 472)\">\n<title>%3</title>\n<polygon fill=\"white\" stroke=\"transparent\" points=\"-4,4 -4,-472 609.5,-472 609.5,4 -4,4\"/>\n<!-- &#45;4428414658895718922 -->\n<g id=\"node1\" class=\"node\">\n<title>&#45;4428414658895718922</title>\n<polygon fill=\"none\" stroke=\"black\" points=\"408.5,-468 274.5,-468 274.5,-432 408.5,-432 408.5,-468\"/>\n<text text-anchor=\"middle\" x=\"341.5\" y=\"-445\" font-family=\"Helvetica,sans-Serif\" font-size=\"20.00\">Mul(Div, 100)</text>\n</g>\n<!-- &#45;6533124045378453118 -->\n<g id=\"node2\" class=\"node\">\n<title>&#45;6533124045378453118</title>\n<polygon fill=\"none\" stroke=\"black\" points=\"416,-396 267,-396 267,-360 416,-360 416,-396\"/>\n<text text-anchor=\"middle\" x=\"341.5\" y=\"-373\" font-family=\"Helvetica,sans-Serif\" font-size=\"20.00\">Div(Sum, Size)</text>\n</g>\n<!-- &#45;6533124045378453118&#45;&gt;&#45;4428414658895718922 -->\n<g id=\"edge1\" class=\"edge\">\n<title>&#45;6533124045378453118&#45;&gt;&#45;4428414658895718922</title>\n<path fill=\"none\" stroke=\"black\" d=\"M341.5,-396.3C341.5,-404.02 341.5,-413.29 341.5,-421.89\"/>\n<polygon fill=\"black\" stroke=\"black\" points=\"338,-421.9 341.5,-431.9 345,-421.9 338,-421.9\"/>\n</g>\n<!-- 12818839029790995 -->\n<g id=\"node3\" class=\"node\">\n<title>12818839029790995</title>\n<polygon fill=\"none\" stroke=\"black\" points=\"331.5,-324 213.5,-324 213.5,-288 331.5,-288 331.5,-324\"/>\n<text text-anchor=\"middle\" x=\"272.5\" y=\"-301\" font-family=\"Helvetica,sans-Serif\" font-size=\"20.00\">Size(Index)</text>\n</g>\n<!-- 12818839029790995&#45;&gt;&#45;6533124045378453118 -->\n<g id=\"edge3\" class=\"edge\">\n<title>12818839029790995&#45;&gt;&#45;6533124045378453118</title>\n<path fill=\"none\" stroke=\"black\" d=\"M289.56,-324.3C298,-332.86 308.32,-343.34 317.54,-352.7\"/>\n<polygon fill=\"black\" stroke=\"black\" points=\"315.13,-355.23 324.64,-359.9 320.11,-350.32 315.13,-355.23\"/>\n</g>\n<!-- 3074856900421701551 -->\n<g id=\"node4\" class=\"node\">\n<title>3074856900421701551</title>\n<polygon fill=\"none\" stroke=\"black\" points=\"285,-180 0,-180 0,-144 285,-144 285,-180\"/>\n<text text-anchor=\"middle\" x=\"142.5\" y=\"-157\" font-family=\"Helvetica,sans-Serif\" font-size=\"20.00\">Index(ArrowStringConversion)</text>\n</g>\n<!-- 3074856900421701551&#45;&gt;12818839029790995 -->\n<g id=\"edge4\" class=\"edge\">\n<title>3074856900421701551&#45;&gt;12818839029790995</title>\n<path fill=\"none\" stroke=\"black\" d=\"M158.18,-180.13C181.02,-205.08 223.57,-251.55 249.82,-280.23\"/>\n<polygon fill=\"black\" stroke=\"black\" points=\"247.43,-282.8 256.76,-287.81 252.59,-278.07 247.43,-282.8\"/>\n</g>\n<!-- &#45;3579180807043942409 -->\n<g id=\"node5\" class=\"node\">\n<title>&#45;3579180807043942409</title>\n<polygon fill=\"none\" stroke=\"black\" points=\"509.5,-108 87.5,-108 87.5,-72 509.5,-72 509.5,-108\"/>\n<text text-anchor=\"middle\" x=\"298.5\" y=\"-85\" font-family=\"Helvetica,sans-Serif\" font-size=\"20.00\">ArrowStringConversion(FromMapProjectable)</text>\n</g>\n<!-- &#45;3579180807043942409&#45;&gt;3074856900421701551 -->\n<g id=\"edge5\" class=\"edge\">\n<title>&#45;3579180807043942409&#45;&gt;3074856900421701551</title>\n<path fill=\"none\" stroke=\"black\" d=\"M260.34,-108.12C239.11,-117.65 212.49,-129.59 189.93,-139.72\"/>\n<polygon fill=\"black\" stroke=\"black\" points=\"188.23,-136.64 180.54,-143.93 191.09,-143.03 188.23,-136.64\"/>\n</g>\n<!-- 323856702923700332 -->\n<g id=\"node9\" class=\"node\">\n<title>323856702923700332</title>\n<polygon fill=\"none\" stroke=\"black\" points=\"605.5,-180 303.5,-180 303.5,-144 605.5,-144 605.5,-180\"/>\n<text text-anchor=\"middle\" x=\"454.5\" y=\"-157\" font-family=\"Helvetica,sans-Serif\" font-size=\"20.00\">NotNull(ArrowStringConversion)</text>\n</g>\n<!-- &#45;3579180807043942409&#45;&gt;323856702923700332 -->\n<g id=\"edge9\" class=\"edge\">\n<title>&#45;3579180807043942409&#45;&gt;323856702923700332</title>\n<path fill=\"none\" stroke=\"black\" d=\"M336.66,-108.12C357.89,-117.65 384.51,-129.59 407.07,-139.72\"/>\n<polygon fill=\"black\" stroke=\"black\" points=\"405.91,-143.03 416.46,-143.93 408.77,-136.64 405.91,-143.03\"/>\n</g>\n<!-- 8672858954753078851 -->\n<g id=\"node6\" class=\"node\">\n<title>8672858954753078851</title>\n<polygon fill=\"none\" stroke=\"black\" points=\"400,-36 197,-36 197,0 400,0 400,-36\"/>\n<text text-anchor=\"middle\" x=\"298.5\" y=\"-13\" font-family=\"Helvetica,sans-Serif\" font-size=\"20.00\">FromMapProjectable</text>\n</g>\n<!-- 8672858954753078851&#45;&gt;&#45;3579180807043942409 -->\n<g id=\"edge6\" class=\"edge\">\n<title>8672858954753078851&#45;&gt;&#45;3579180807043942409</title>\n<path fill=\"none\" stroke=\"black\" d=\"M298.5,-36.3C298.5,-44.02 298.5,-53.29 298.5,-61.89\"/>\n<polygon fill=\"black\" stroke=\"black\" points=\"295,-61.9 298.5,-71.9 302,-61.9 295,-61.9\"/>\n</g>\n<!-- &#45;2710524692129809231 -->\n<g id=\"node7\" class=\"node\">\n<title>&#45;2710524692129809231</title>\n<polygon fill=\"none\" stroke=\"black\" points=\"493,-324 372,-324 372,-288 493,-288 493,-324\"/>\n<text text-anchor=\"middle\" x=\"432.5\" y=\"-301\" font-family=\"Helvetica,sans-Serif\" font-size=\"20.00\">Sum(Invert)</text>\n</g>\n<!-- &#45;2710524692129809231&#45;&gt;&#45;6533124045378453118 -->\n<g id=\"edge2\" class=\"edge\">\n<title>&#45;2710524692129809231&#45;&gt;&#45;6533124045378453118</title>\n<path fill=\"none\" stroke=\"black\" d=\"M410.01,-324.3C398.54,-333.12 384.44,-343.97 372.02,-353.53\"/>\n<polygon fill=\"black\" stroke=\"black\" points=\"369.53,-351.02 363.74,-359.9 373.8,-356.57 369.53,-351.02\"/>\n</g>\n<!-- 3501481306956124683 -->\n<g id=\"node8\" class=\"node\">\n<title>3501481306956124683</title>\n<polygon fill=\"none\" stroke=\"black\" points=\"516,-252 371,-252 371,-216 516,-216 516,-252\"/>\n<text text-anchor=\"middle\" x=\"443.5\" y=\"-229\" font-family=\"Helvetica,sans-Serif\" font-size=\"20.00\">Invert(NotNull)</text>\n</g>\n<!-- 3501481306956124683&#45;&gt;&#45;2710524692129809231 -->\n<g id=\"edge7\" class=\"edge\">\n<title>3501481306956124683&#45;&gt;&#45;2710524692129809231</title>\n<path fill=\"none\" stroke=\"black\" d=\"M440.78,-252.3C439.57,-260.02 438.11,-269.29 436.76,-277.89\"/>\n<polygon fill=\"black\" stroke=\"black\" points=\"433.28,-277.47 435.19,-287.9 440.2,-278.56 433.28,-277.47\"/>\n</g>\n<!-- 323856702923700332&#45;&gt;3501481306956124683 -->\n<g id=\"edge8\" class=\"edge\">\n<title>323856702923700332&#45;&gt;3501481306956124683</title>\n<path fill=\"none\" stroke=\"black\" d=\"M451.78,-180.3C450.57,-188.02 449.11,-197.29 447.76,-205.89\"/>\n<polygon fill=\"black\" stroke=\"black\" points=\"444.28,-205.47 446.19,-215.9 451.2,-206.56 444.28,-205.47\"/>\n</g>\n</g>\n</svg>\n",
            "text/plain": [
              "<graphviz.graphs.Digraph at 0x7b4d74b647d0>"
            ]
          },
          "metadata": {},
          "execution_count": 25
        }
      ],
      "source": [
        "# visualize DAGs built from the DataFrame\n",
        "missing_count.visualize()"
      ]
    },
    {
      "cell_type": "markdown",
      "metadata": {
        "id": "9wVceOSipheb"
      },
      "source": [
        "# Самостоятельная работа\n",
        "\n",
        "Каталог датасетов [тут](https://disk.yandex.ru/d/fbPE3VNKYocd7g). Прямая ссылка https://disk.yandex.ru/d/fbPE3VNKYocd7g.\n",
        "\n",
        "Выполнить пункты\n",
        "\n",
        "`2.1.1.` - `2.1.4.`,\n",
        "\n",
        "`2.2.1.` - `2.2.2.`,\n",
        "\n",
        "по вариантам:\n",
        "\n",
        "01. `Parking_Violations_Issued_-_Fiscal_Year_2014__August_2013___June_2014_.csv`.\n",
        "02. `Parking_Violations_Issued_-_Fiscal_Year_2015.csv`.\n",
        "03. `Parking_Violations_Issued_-_Fiscal_Year_2016.csv`.\n",
        "04. `Parking_Violations_Issued_-_Fiscal_Year_2017.csv`.\n",
        "05. `UK Property Price official data 1995-202304.zip`.\n",
        "06. `Austin, TX House Listings.zip`.\n",
        "07. `Parking_Violations_Issued_-_Fiscal_Year_2014__August_2013___June_2014_.csv`.\n",
        "08. `Parking_Violations_Issued_-_Fiscal_Year_2015.csv`.\n",
        "09. `Parking_Violations_Issued_-_Fiscal_Year_2016.csv`.\n",
        "10. `Parking_Violations_Issued_-_Fiscal_Year_2017.csv`.\n",
        "11. `UK Property Price official data 1995-202304.zip`.\n",
        "12. `Austin, TX House Listings.zip`.\n",
        "13. `Parking_Violations_Issued_-_Fiscal_Year_2014__August_2013___June_2014_.csv`.\n",
        "14. `Parking_Violations_Issued_-_Fiscal_Year_2015.csv`.\n",
        "15. `Parking_Violations_Issued_-_Fiscal_Year_2016.csv`.\n",
        "16. `Parking_Violations_Issued_-_Fiscal_Year_2017.csv`.\n",
        "17. `UK Property Price official data 1995-202304.zip`.\n",
        "18. `Austin, TX House Listings.zip`.\n",
        "19. `Parking_Violations_Issued_-_Fiscal_Year_2014__August_2013___June_2014_.csv`.\n",
        "20. `Parking_Violations_Issued_-_Fiscal_Year_2015.csv`.\n",
        "21. `Parking_Violations_Issued_-_Fiscal_Year_2016.csv`.\n",
        "22. `Parking_Violations_Issued_-_Fiscal_Year_2017.csv`.\n",
        "23. `UK Property Price official data 1995-202304.zip`.\n",
        "24. `Austin, TX House Listings.zip`.\n",
        "25. `Parking_Violations_Issued_-_Fiscal_Year_2014__August_2013___June_2014_.csv`.\n",
        "\n",
        "\n",
        "\n",
        "\n"
      ]
    }
  ],
  "metadata": {
    "colab": {
      "provenance": []
    },
    "kernelspec": {
      "display_name": "Python 3",
      "name": "python3"
    },
    "language_info": {
      "name": "python"
    }
  },
  "nbformat": 4,
  "nbformat_minor": 0
}